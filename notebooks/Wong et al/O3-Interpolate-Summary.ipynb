{
 "cells": [
  {
   "cell_type": "markdown",
   "id": "c5a7769e",
   "metadata": {},
   "source": [
    "### Package Imports"
   ]
  },
  {
   "cell_type": "code",
   "execution_count": 1,
   "id": "2d9ef28d",
   "metadata": {},
   "outputs": [],
   "source": [
    "from time import time \n",
    "init = time()\n",
    "import pandas as pd\n",
    "import matplotlib.pyplot as plt\n",
    "import numpy as np\n",
    "import sys\n",
    "import warnings\n",
    "warnings.filterwarnings(\"ignore\")"
   ]
  },
  {
   "cell_type": "markdown",
   "id": "a452cf23",
   "metadata": {},
   "source": [
    "### Data loading and filtering"
   ]
  },
  {
   "cell_type": "code",
   "execution_count": 2,
   "id": "070a730a",
   "metadata": {},
   "outputs": [],
   "source": [
    "cadf = pd.read_csv(\"../../data/cal_o3.csv.gz\", index_col = None)\n",
    "\n",
    "cadf = cadf[cadf['Time Local'] <= '18:00']\n",
    "cadf = cadf[cadf['Time Local'] >= '10:00']\n",
    "\n",
    "cadf['ID'] = cadf['County Code'].apply(str) + cadf['Site Num'].apply(str)"
   ]
  },
  {
   "cell_type": "code",
   "execution_count": 3,
   "id": "d934d71f",
   "metadata": {
    "scrolled": true
   },
   "outputs": [
    {
     "data": {
      "text/plain": [
       "Index(['State Code', 'County Code', 'Site Num', 'Parameter Code', 'POC',\n",
       "       'Latitude', 'Longitude', 'Datum', 'Parameter Name', 'Date Local',\n",
       "       'Time Local', 'Date GMT', 'Time GMT', 'Sample Measurement',\n",
       "       'Units of Measure', 'MDL', 'Uncertainty', 'Qualifier', 'Method Type',\n",
       "       'Method Code', 'Method Name', 'State Name', 'County Name',\n",
       "       'Date of Last Change', 'ID'],\n",
       "      dtype='object')"
      ]
     },
     "execution_count": 3,
     "metadata": {},
     "output_type": "execute_result"
    }
   ],
   "source": [
    "cadf.columns"
   ]
  },
  {
   "cell_type": "markdown",
   "id": "985c5eac",
   "metadata": {},
   "source": [
    "### Preprocessing"
   ]
  },
  {
   "cell_type": "code",
   "execution_count": 4,
   "id": "4732abc2",
   "metadata": {},
   "outputs": [],
   "source": [
    "mask = cadf.groupby(['ID', 'Date Local'])['Sample Measurement'].count() >= 8\n",
    "cadf = cadf.groupby(['ID', 'Date Local']).mean()[mask].reset_index()\n",
    "\n",
    "cadf = cadf[['ID', 'Date Local', 'Latitude', 'Longitude', 'Sample Measurement']]\n",
    "\n",
    "cadf = cadf[(cadf['Date Local'] >= '1990-05-01') & (cadf['Date Local'] <= '1990-09-30')]\n",
    "\n",
    "mask = cadf.groupby('ID').count()>=115\n",
    "cadf = cadf.groupby('ID').mean()[mask].dropna()"
   ]
  },
  {
   "cell_type": "markdown",
   "id": "92b94121",
   "metadata": {},
   "source": [
    "## Summary Statistics for Kriging Interpolation in California"
   ]
  },
  {
   "cell_type": "code",
   "execution_count": 5,
   "id": "894e464b",
   "metadata": {},
   "outputs": [],
   "source": [
    "def summary_stats(x):\n",
    "    return x.mean(), np.percentile(x, 25), np.percentile(x, 50), np.percentile(x, 75)\n",
    "\n",
    "res_df = pd.DataFrame(columns=[ 'mean', '25%', '50%', '75%'])"
   ]
  },
  {
   "cell_type": "code",
   "execution_count": 6,
   "id": "faec11a7",
   "metadata": {},
   "outputs": [],
   "source": [
    "import geopandas as gpd\n",
    "g_df = gpd.read_file(\"../../data/block_groups/california/tl_2016_06_bg.shp\")"
   ]
  },
  {
   "cell_type": "code",
   "execution_count": 7,
   "id": "6b04522c",
   "metadata": {},
   "outputs": [
    {
     "data": {
      "text/plain": [
       "('+41.9466483', '+32.5447420')"
      ]
     },
     "execution_count": 7,
     "metadata": {},
     "output_type": "execute_result"
    }
   ],
   "source": [
    "g_df['INTPTLAT'].max(), g_df['INTPTLAT'].min(), "
   ]
  },
  {
   "cell_type": "code",
   "execution_count": 8,
   "id": "37abe3ef",
   "metadata": {},
   "outputs": [],
   "source": [
    "shapes = g_df['geometry'].unique()\n",
    "centroids = [shapes[i].centroid.wkt for i in range(len(shapes))]\n",
    "centroids = [centroids[i].split(' ')[1:] for i in range(len(centroids))]\n",
    "centroids = [[np.float64(centroids[i][0][1:]), np.float64(centroids[i][1][:-1])] for i in range(len(centroids))]\n",
    "centroids = np.array(centroids)"
   ]
  },
  {
   "cell_type": "code",
   "execution_count": 9,
   "id": "f12b404b",
   "metadata": {},
   "outputs": [
    {
     "data": {
      "text/plain": [
       "(array([-124.27033744,   32.54474204]), array([-114.29862718,   41.94353816]))"
      ]
     },
     "execution_count": 9,
     "metadata": {},
     "output_type": "execute_result"
    }
   ],
   "source": [
    "centroids.min(axis=0), centroids.max(axis=0)"
   ]
  },
  {
   "cell_type": "code",
   "execution_count": 10,
   "id": "ee97972b",
   "metadata": {},
   "outputs": [
    {
     "data": {
      "text/plain": [
       "(154, 2)"
      ]
     },
     "execution_count": 10,
     "metadata": {},
     "output_type": "execute_result"
    }
   ],
   "source": [
    "X = cadf[['Longitude', 'Latitude']].values\n",
    "y = cadf[['Sample Measurement']].values*1000\n",
    "X.shape"
   ]
  },
  {
   "cell_type": "code",
   "execution_count": 11,
   "id": "826d9fa4",
   "metadata": {},
   "outputs": [],
   "source": [
    "from polire import Kriging\n",
    "## PyKrige takes Longitude Values in the Range 0 to 360 => Add 360 to our values!\n",
    "X_krig = X.copy()\n",
    "X_test_krig = centroids.copy()\n",
    "krig = Kriging(variogram_model='spherical', coordinate_type='Geographic')\n",
    "krig.fit(X_krig, y.ravel())\n",
    "\n",
    "X_test_krig[:, 0] = X_test_krig[:, 0] + 360\n",
    "krig_predictions = krig.predict(X_test_krig)\n",
    "\n",
    "res_df.loc['Kriging', :] = summary_stats(krig_predictions)"
   ]
  },
  {
   "cell_type": "markdown",
   "id": "a272c882",
   "metadata": {},
   "source": [
    "## IDW, KNN, SA for USA"
   ]
  },
  {
   "cell_type": "code",
   "execution_count": 12,
   "id": "ac7bf9ad",
   "metadata": {},
   "outputs": [
    {
     "data": {
      "text/html": [
       "<div>\n",
       "<style scoped>\n",
       "    .dataframe tbody tr th:only-of-type {\n",
       "        vertical-align: middle;\n",
       "    }\n",
       "\n",
       "    .dataframe tbody tr th {\n",
       "        vertical-align: top;\n",
       "    }\n",
       "\n",
       "    .dataframe thead th {\n",
       "        text-align: right;\n",
       "    }\n",
       "</style>\n",
       "<table border=\"1\" class=\"dataframe\">\n",
       "  <thead>\n",
       "    <tr style=\"text-align: right;\">\n",
       "      <th></th>\n",
       "      <th>Latitude</th>\n",
       "      <th>Longitude</th>\n",
       "      <th>Sample Measurement</th>\n",
       "    </tr>\n",
       "  </thead>\n",
       "  <tbody>\n",
       "    <tr>\n",
       "      <th>0</th>\n",
       "      <td>37.858932</td>\n",
       "      <td>-87.575291</td>\n",
       "      <td>0.040264</td>\n",
       "    </tr>\n",
       "    <tr>\n",
       "      <th>1</th>\n",
       "      <td>40.049604</td>\n",
       "      <td>-75.241209</td>\n",
       "      <td>0.046745</td>\n",
       "    </tr>\n",
       "  </tbody>\n",
       "</table>\n",
       "</div>"
      ],
      "text/plain": [
       "    Latitude  Longitude  Sample Measurement\n",
       "0  37.858932 -87.575291            0.040264\n",
       "1  40.049604 -75.241209            0.046745"
      ]
     },
     "execution_count": 12,
     "metadata": {},
     "output_type": "execute_result"
    }
   ],
   "source": [
    "df = pd.read_csv(\"../../data/usa_o3.csv.gz\").dropna()\n",
    "df.head(2)"
   ]
  },
  {
   "cell_type": "code",
   "execution_count": 13,
   "id": "8404af5d",
   "metadata": {},
   "outputs": [],
   "source": [
    "centroids = np.load(\"../../data/block_groups/usa_centroids.npy\")"
   ]
  },
  {
   "cell_type": "code",
   "execution_count": 14,
   "id": "e1624c9f",
   "metadata": {},
   "outputs": [],
   "source": [
    "X = df[['Longitude', 'Latitude']].values\n",
    "y = df['Sample Measurement'].values * 1000"
   ]
  },
  {
   "cell_type": "markdown",
   "id": "a31997a5",
   "metadata": {},
   "source": [
    "## Spatial Averaging"
   ]
  },
  {
   "cell_type": "code",
   "execution_count": 15,
   "id": "185ce054",
   "metadata": {},
   "outputs": [
    {
     "data": {
      "text/plain": [
       "SpatialAverage"
      ]
     },
     "execution_count": 15,
     "metadata": {},
     "output_type": "execute_result"
    }
   ],
   "source": [
    "from polire import SpatialAverage\n",
    "spatial = SpatialAverage(coordinate_type='Geographic', radius=16.1)\n",
    "spatial.fit(X, y)"
   ]
  },
  {
   "cell_type": "code",
   "execution_count": 16,
   "id": "e220587d",
   "metadata": {},
   "outputs": [],
   "source": [
    "spatial_predictions = spatial.predict(centroids)\n",
    "spatial_predictions = spatial_predictions[~np.isnan(spatial_predictions)]\n",
    "res_df.loc['Spatial Average', :] = summary_stats(spatial_predictions)"
   ]
  },
  {
   "cell_type": "markdown",
   "id": "56249ca5",
   "metadata": {},
   "source": [
    "## IDW"
   ]
  },
  {
   "cell_type": "code",
   "execution_count": 17,
   "id": "777b2a97",
   "metadata": {},
   "outputs": [
    {
     "data": {
      "text/plain": [
       "IDW"
      ]
     },
     "execution_count": 17,
     "metadata": {},
     "output_type": "execute_result"
    }
   ],
   "source": [
    "from polire import IDW\n",
    "idw = IDW(coordinate_type='Geographic')\n",
    "idw.fit(X, y)"
   ]
  },
  {
   "cell_type": "code",
   "execution_count": 18,
   "id": "a0041d89",
   "metadata": {},
   "outputs": [],
   "source": [
    "idw_predictions = idw.predict(centroids)\n",
    "\n",
    "res_df.loc['IDW', :] = summary_stats(idw_predictions)"
   ]
  },
  {
   "cell_type": "markdown",
   "id": "cee880db",
   "metadata": {},
   "source": [
    "### $k$-NN, with $k = 1$."
   ]
  },
  {
   "cell_type": "code",
   "execution_count": 19,
   "id": "c62a6fb4",
   "metadata": {},
   "outputs": [],
   "source": [
    "from polire import CustomInterpolator\n",
    "from sklearn.neighbors import KNeighborsRegressor\n",
    "knn = CustomInterpolator(KNeighborsRegressor(n_neighbors=1))\n",
    "knn.fit(X, y)\n",
    "knn_predictions = knn.predict(centroids)\n",
    "\n",
    "res_df.loc['KNN', :] = summary_stats(knn_predictions)"
   ]
  },
  {
   "cell_type": "markdown",
   "id": "e8b93411",
   "metadata": {},
   "source": [
    "## Results"
   ]
  },
  {
   "cell_type": "code",
   "execution_count": 20,
   "id": "fb46115c",
   "metadata": {},
   "outputs": [
    {
     "name": "stdout",
     "output_type": "stream",
     "text": [
      "|                 |    mean |     25% |     50% |     75% |\n",
      "|:----------------|--------:|--------:|--------:|--------:|\n",
      "| Kriging         | 51.1912 | 42.3414 | 52.5939 | 60.1207 |\n",
      "| Spatial Average | 45.1846 | 39.9437 | 44.3338 | 49.2456 |\n",
      "| IDW             | 45.7411 | 42.2394 | 45.5186 | 49.0094 |\n",
      "| KNN             | 45.228  | 39.0644 | 45.1592 | 50.2772 |\n"
     ]
    }
   ],
   "source": [
    "print(res_df.to_markdown())"
   ]
  },
  {
   "cell_type": "code",
   "execution_count": 21,
   "id": "5e77c717",
   "metadata": {},
   "outputs": [
    {
     "name": "stdout",
     "output_type": "stream",
     "text": [
      "Done in 0.6720613718032837 minutes\n"
     ]
    }
   ],
   "source": [
    "print('Done in',(time()-init)/60,'minutes')"
   ]
  }
 ],
 "metadata": {
  "kernelspec": {
   "display_name": "Python 3",
   "language": "python",
   "name": "python3"
  },
  "language_info": {
   "codemirror_mode": {
    "name": "ipython",
    "version": 3
   },
   "file_extension": ".py",
   "mimetype": "text/x-python",
   "name": "python",
   "nbconvert_exporter": "python",
   "pygments_lexer": "ipython3",
   "version": "3.8.8"
  }
 },
 "nbformat": 4,
 "nbformat_minor": 5
}
