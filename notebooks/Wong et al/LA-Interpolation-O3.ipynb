{
 "cells": [
  {
   "cell_type": "markdown",
   "id": "58133042",
   "metadata": {},
   "source": [
    "### Package Imports"
   ]
  },
  {
   "cell_type": "code",
   "execution_count": 1,
   "id": "fe044739",
   "metadata": {},
   "outputs": [],
   "source": [
    "from time import time\n",
    "import pandas as pd\n",
    "import matplotlib.pyplot as plt\n",
    "import matplotlib\n",
    "import numpy as np\n",
    "import sys\n",
    "import warnings\n",
    "warnings.filterwarnings('ignore')\n",
    "\n",
    "init = time()"
   ]
  },
  {
   "cell_type": "markdown",
   "id": "16bd651e",
   "metadata": {},
   "source": [
    "### Latexify for LaTeX ready plots"
   ]
  },
  {
   "cell_type": "code",
   "execution_count": 2,
   "id": "33739cf2",
   "metadata": {},
   "outputs": [],
   "source": [
    "def latexify(fig_width=None, fig_height=None, columns=1):\n",
    "    \"\"\"Set up matplotlib's RC params for LaTeX plotting.\n",
    "    Call this before plotting a figure.\n",
    "\n",
    "    Parameters\n",
    "    ----------\n",
    "    fig_width : float, optional, inches\n",
    "    fig_height : float,  optional, inches\n",
    "    columns : {1, 2}\n",
    "    \"\"\"\n",
    "\n",
    "    # code adapted from http://www.scipy.org/Cookbook/Matplotlib/LaTeX_Examples\n",
    "\n",
    "    # Width and max height in inches for IEEE journals taken from\n",
    "    # computer.org/cms/Computer.org/Journal%20templates/transactions_art_guide.pdf\n",
    "\n",
    "    assert(columns in [1,2])\n",
    "\n",
    "    if fig_width is None:\n",
    "        fig_width = 3.33 if columns==1 else 6.9 # width in inches\n",
    "\n",
    "    if fig_height is None:\n",
    "        golden_mean = (sqrt(5)-1.0)/2.0    # Aesthetic ratio\n",
    "        fig_height = fig_width*golden_mean # height in inches\n",
    "\n",
    "    MAX_HEIGHT_INCHES = 8.0\n",
    "    if fig_height > MAX_HEIGHT_INCHES:\n",
    "        print(\"WARNING: fig_height too large:\" + fig_height + \n",
    "              \"so will reduce to\" + MAX_HEIGHT_INCHES + \"inches.\")\n",
    "        fig_height = MAX_HEIGHT_INCHES\n",
    "\n",
    "    params = {'backend': 'ps',\n",
    "              'text.latex.preamble': [r'\\usepackage{gensymb}'],\n",
    "              'axes.labelsize': 10, # fontsize for x and y labels (was 10)\n",
    "              'axes.titlesize': 10,\n",
    "              'font.size': 10, # was 10\n",
    "              'legend.fontsize': 10, # was 10\n",
    "              'xtick.labelsize': 10,\n",
    "              'ytick.labelsize': 10,\n",
    "              'text.usetex': True,\n",
    "              'figure.figsize': [fig_width,fig_height],\n",
    "              'font.family': 'serif'\n",
    "    }\n",
    "\n",
    "    matplotlib.rcParams.update(params)\n",
    "\n",
    "\n",
    "def format_axes(ax):\n",
    "\n",
    "    for spine in ['top', 'right']:\n",
    "        ax.spines[spine].set_visible(False)\n",
    "\n",
    "    for spine in ['left', 'bottom']:\n",
    "        ax.spines[spine].set_color(SPINE_COLOR)\n",
    "        ax.spines[spine].set_linewidth(0.5)\n",
    "\n",
    "    ax.xaxis.set_ticks_position('bottom')\n",
    "    ax.yaxis.set_ticks_position('left')\n",
    "\n",
    "    for axis in [ax.xaxis, ax.yaxis]:\n",
    "        axis.set_tick_params(direction='out', color=SPINE_COLOR)\n",
    "\n",
    "    return ax"
   ]
  },
  {
   "cell_type": "markdown",
   "id": "9b1117dd",
   "metadata": {},
   "source": [
    "### Loading dataset"
   ]
  },
  {
   "cell_type": "code",
   "execution_count": 3,
   "id": "e0f8d3eb",
   "metadata": {},
   "outputs": [],
   "source": [
    "california_ozone = pd.read_csv(\"../../data/cal_o3.csv.gz\", index_col = None)"
   ]
  },
  {
   "cell_type": "markdown",
   "id": "19be36e3",
   "metadata": {},
   "source": [
    "### Choosing data: date between 01/05/90 to 30/09/90 and time between 10 a.m. to 6 p.m."
   ]
  },
  {
   "cell_type": "code",
   "execution_count": 4,
   "id": "484b47e8",
   "metadata": {},
   "outputs": [],
   "source": [
    "ca10to6 = california_ozone[(california_ozone['Time Local'] <= '18:00') & (california_ozone['Time Local'] >= '10:00')]\n",
    "ca10to6 = ca10to6[(ca10to6['Date Local'] >= '1990-05-01') & (ca10to6['Date Local'] <= '1990-09-30')]"
   ]
  },
  {
   "cell_type": "markdown",
   "id": "58fc09cd",
   "metadata": {},
   "source": [
    "### Creating ID"
   ]
  },
  {
   "cell_type": "code",
   "execution_count": 5,
   "id": "164adbc1",
   "metadata": {
    "scrolled": false
   },
   "outputs": [
    {
     "data": {
      "text/html": [
       "<div>\n",
       "<style scoped>\n",
       "    .dataframe tbody tr th:only-of-type {\n",
       "        vertical-align: middle;\n",
       "    }\n",
       "\n",
       "    .dataframe tbody tr th {\n",
       "        vertical-align: top;\n",
       "    }\n",
       "\n",
       "    .dataframe thead th {\n",
       "        text-align: right;\n",
       "    }\n",
       "</style>\n",
       "<table border=\"1\" class=\"dataframe\">\n",
       "  <thead>\n",
       "    <tr style=\"text-align: right;\">\n",
       "      <th></th>\n",
       "      <th>State Code</th>\n",
       "      <th>County Code</th>\n",
       "      <th>Site Num</th>\n",
       "      <th>Parameter Code</th>\n",
       "      <th>POC</th>\n",
       "      <th>Latitude</th>\n",
       "      <th>Longitude</th>\n",
       "      <th>Datum</th>\n",
       "      <th>Parameter Name</th>\n",
       "      <th>Date Local</th>\n",
       "      <th>...</th>\n",
       "      <th>MDL</th>\n",
       "      <th>Uncertainty</th>\n",
       "      <th>Qualifier</th>\n",
       "      <th>Method Type</th>\n",
       "      <th>Method Code</th>\n",
       "      <th>Method Name</th>\n",
       "      <th>State Name</th>\n",
       "      <th>County Name</th>\n",
       "      <th>Date of Last Change</th>\n",
       "      <th>ID</th>\n",
       "    </tr>\n",
       "  </thead>\n",
       "  <tbody>\n",
       "    <tr>\n",
       "      <th>2806</th>\n",
       "      <td>6</td>\n",
       "      <td>1</td>\n",
       "      <td>3</td>\n",
       "      <td>44201</td>\n",
       "      <td>1</td>\n",
       "      <td>37.6849</td>\n",
       "      <td>-121.7659</td>\n",
       "      <td>WGS84</td>\n",
       "      <td>Ozone</td>\n",
       "      <td>1990-05-01</td>\n",
       "      <td>...</td>\n",
       "      <td>0.005</td>\n",
       "      <td>NaN</td>\n",
       "      <td>NaN</td>\n",
       "      <td>FEM</td>\n",
       "      <td>19</td>\n",
       "      <td>INSTRUMENTAL - ULTRA VIOLET</td>\n",
       "      <td>California</td>\n",
       "      <td>Alameda</td>\n",
       "      <td>2010-08-20</td>\n",
       "      <td>13</td>\n",
       "    </tr>\n",
       "    <tr>\n",
       "      <th>2807</th>\n",
       "      <td>6</td>\n",
       "      <td>1</td>\n",
       "      <td>3</td>\n",
       "      <td>44201</td>\n",
       "      <td>1</td>\n",
       "      <td>37.6849</td>\n",
       "      <td>-121.7659</td>\n",
       "      <td>WGS84</td>\n",
       "      <td>Ozone</td>\n",
       "      <td>1990-05-01</td>\n",
       "      <td>...</td>\n",
       "      <td>0.005</td>\n",
       "      <td>NaN</td>\n",
       "      <td>NaN</td>\n",
       "      <td>FEM</td>\n",
       "      <td>19</td>\n",
       "      <td>INSTRUMENTAL - ULTRA VIOLET</td>\n",
       "      <td>California</td>\n",
       "      <td>Alameda</td>\n",
       "      <td>2010-08-20</td>\n",
       "      <td>13</td>\n",
       "    </tr>\n",
       "  </tbody>\n",
       "</table>\n",
       "<p>2 rows × 25 columns</p>\n",
       "</div>"
      ],
      "text/plain": [
       "      State Code  County Code  Site Num  Parameter Code  POC  Latitude  \\\n",
       "2806           6            1         3           44201    1   37.6849   \n",
       "2807           6            1         3           44201    1   37.6849   \n",
       "\n",
       "      Longitude  Datum Parameter Name  Date Local  ...    MDL Uncertainty  \\\n",
       "2806  -121.7659  WGS84          Ozone  1990-05-01  ...  0.005         NaN   \n",
       "2807  -121.7659  WGS84          Ozone  1990-05-01  ...  0.005         NaN   \n",
       "\n",
       "     Qualifier  Method Type Method Code                  Method Name  \\\n",
       "2806       NaN          FEM          19  INSTRUMENTAL - ULTRA VIOLET   \n",
       "2807       NaN          FEM          19  INSTRUMENTAL - ULTRA VIOLET   \n",
       "\n",
       "      State Name County Name Date of Last Change  ID  \n",
       "2806  California     Alameda          2010-08-20  13  \n",
       "2807  California     Alameda          2010-08-20  13  \n",
       "\n",
       "[2 rows x 25 columns]"
      ]
     },
     "execution_count": 5,
     "metadata": {},
     "output_type": "execute_result"
    }
   ],
   "source": [
    "ca10to6['ID'] = ca10to6['County Code'].apply(str)+ca10to6['Site Num'].apply(str)\n",
    "ca10to6.head(2)"
   ]
  },
  {
   "cell_type": "markdown",
   "id": "8a8b54ea",
   "metadata": {},
   "source": [
    "### Filter and choose if 1) atleast 8/9 observations per day 2) atleast 115 days (75% of 153) data available"
   ]
  },
  {
   "cell_type": "code",
   "execution_count": 6,
   "id": "0bf6ef5d",
   "metadata": {},
   "outputs": [],
   "source": [
    "mask = ca10to6.groupby(['ID', 'Date Local'])['Sample Measurement'].count() >= 8\n",
    "ca10to6 = ca10to6.groupby(['ID', 'Date Local']).mean()[mask].reset_index()\n",
    "ca10to6 = ca10to6[['ID', 'Date Local', 'Latitude', 'Longitude', 'Sample Measurement']]\n",
    "\n",
    "mask = ca10to6.groupby('ID').count()>=115\n",
    "ca10to6 = ca10to6.groupby('ID').mean()[mask].dropna()"
   ]
  },
  {
   "cell_type": "code",
   "execution_count": 7,
   "id": "ea800639",
   "metadata": {},
   "outputs": [
    {
     "data": {
      "image/png": "[encoded data removed]",
      "text/plain": [
       "<Figure size 432x288 with 1 Axes>"
      ]
     },
     "metadata": {
      "needs_background": "light"
     },
     "output_type": "display_data"
    }
   ],
   "source": [
    "plt.scatter(ca10to6['Longitude'], ca10to6['Latitude']);"
   ]
  },
  {
   "cell_type": "markdown",
   "id": "b48b02ba",
   "metadata": {},
   "source": [
    "## Let us load Los Angeles Centroids for Interpolation\n",
    "\n",
    "### Before that, let us visualize LA County and nearby regions!"
   ]
  },
  {
   "cell_type": "code",
   "execution_count": 8,
   "id": "84bf6393",
   "metadata": {},
   "outputs": [],
   "source": [
    "import geopandas as gpd"
   ]
  },
  {
   "cell_type": "markdown",
   "id": "df2629bb",
   "metadata": {},
   "source": [
    "Venture - 111, Orange - 59, Riverside - 65, San Bernardino - 71, LA - 37"
   ]
  },
  {
   "cell_type": "code",
   "execution_count": 9,
   "id": "758895f5",
   "metadata": {
    "scrolled": true
   },
   "outputs": [
    {
     "data": {
      "image/png": "[encoded data removed]",
      "text/plain": [
       "<Figure size 432x288 with 1 Axes>"
      ]
     },
     "metadata": {
      "needs_background": "light"
     },
     "output_type": "display_data"
    }
   ],
   "source": [
    "gdf = gpd.read_file(\"../../data/block_groups/california/tl_2016_06_bg.shp\")\n",
    "gdf = gdf[gdf['COUNTYFP'].isin(['037', '059', '111'])]\n",
    "gdf['INTPTLAT'] = np.float64(gdf['INTPTLAT'].values)\n",
    "gdf['INTPTLON'] = np.float64(gdf['INTPTLON'].values)\n",
    "gdf = gdf[gdf['INTPTLAT']>=33.6]\n",
    "gdf = gdf[gdf['INTPTLAT']<=35.5]\n",
    "gdf = gdf[gdf['INTPTLON']>=-119.4]\n",
    "gdf.plot();"
   ]
  },
  {
   "cell_type": "code",
   "execution_count": 10,
   "id": "3356b96f",
   "metadata": {},
   "outputs": [],
   "source": [
    "mask1 = gdf['COUNTYFP']=='037'\n",
    "lagdf = gdf[gdf['COUNTYFP']=='037']"
   ]
  },
  {
   "cell_type": "code",
   "execution_count": 11,
   "id": "591a40fe",
   "metadata": {},
   "outputs": [],
   "source": [
    "shapes = lagdf['geometry'].unique()\n",
    "centroids = [shapes[i].centroid.wkt for i in range(len(shapes))]\n",
    "centroids = [centroids[i].split(' ')[1:] for i in range(len(centroids))]\n",
    "centroids = [[np.float64(centroids[i][0][1:]), np.float64(centroids[i][1][:-1])] for i in range(len(centroids))]\n",
    "centroids = np.array(centroids)"
   ]
  },
  {
   "cell_type": "code",
   "execution_count": 12,
   "id": "06e4ba86",
   "metadata": {},
   "outputs": [
    {
     "data": {
      "text/plain": [
       "(6419, 2)"
      ]
     },
     "execution_count": 12,
     "metadata": {},
     "output_type": "execute_result"
    }
   ],
   "source": [
    "centroids.shape"
   ]
  },
  {
   "cell_type": "markdown",
   "id": "b22d9814",
   "metadata": {},
   "source": [
    "## We are only interested in LA for Kriging Interpolation of O3\n",
    "## Accordingly we choose Latitude <= 34.81"
   ]
  },
  {
   "cell_type": "code",
   "execution_count": 13,
   "id": "ae341a4a",
   "metadata": {},
   "outputs": [],
   "source": [
    "ca10to6 = ca10to6[ca10to6['Latitude']<=34.81]"
   ]
  },
  {
   "cell_type": "markdown",
   "id": "202fd2c2",
   "metadata": {},
   "source": [
    "## Let us interpolate over LA County!"
   ]
  },
  {
   "cell_type": "code",
   "execution_count": 14,
   "id": "463f37be",
   "metadata": {},
   "outputs": [],
   "source": [
    "X = ca10to6[['Longitude', 'Latitude']].values\n",
    "y = ca10to6[['Sample Measurement']].values.ravel() * 1000"
   ]
  },
  {
   "cell_type": "markdown",
   "id": "53a01716",
   "metadata": {},
   "source": [
    "### Kriging Interpolation"
   ]
  },
  {
   "cell_type": "code",
   "execution_count": 15,
   "id": "bd8e1342",
   "metadata": {},
   "outputs": [],
   "source": [
    "from polire import Kriging\n",
    "## PyKrige takes Longitude Values in the Range 0 to 360 => Add 360 to our values!\n",
    "X_krig = X.copy()\n",
    "X_test_krig = centroids.copy()\n",
    "# X_krig[:, 0] = X_krig[:, 0] + 360\n",
    "krig = Kriging(variogram_model='spherical', coordinate_type='Geographic')\n",
    "krig.fit(X_krig, y)\n",
    "\n",
    "X_test_krig[:, 0] = X_test_krig[:, 0] + 360\n",
    "krig_predictions = krig.predict(X_test_krig)"
   ]
  },
  {
   "cell_type": "markdown",
   "id": "b5488c0d",
   "metadata": {},
   "source": [
    "### Spatial Average"
   ]
  },
  {
   "cell_type": "code",
   "execution_count": 16,
   "id": "4725c183",
   "metadata": {},
   "outputs": [],
   "source": [
    "from polire import SpatialAverage\n",
    "spatial = SpatialAverage(coordinate_type='Geographic', radius=16.1)\n",
    "spatial.fit(X, y)\n",
    "spatial_predictions = spatial.predict(centroids)"
   ]
  },
  {
   "cell_type": "markdown",
   "id": "89074a11",
   "metadata": {},
   "source": [
    "### IDW"
   ]
  },
  {
   "cell_type": "markdown",
   "id": "27134683",
   "metadata": {},
   "source": [
    "For IDW, the authors choose a 250 km radius. Let us likewise choose our training points and use the IDW Class repeatedly.\n",
    "\n",
    "polire supports geographic coordinates and hence we have that distance too!"
   ]
  },
  {
   "cell_type": "code",
   "execution_count": 17,
   "id": "ae5eca5d",
   "metadata": {},
   "outputs": [],
   "source": [
    "from polire import IDW\n",
    "from polire.utils.distance import haversine, euclidean\n",
    "idw = IDW(coordinate_type='Geographic', exponent=1)\n",
    "idw_predictions = np.zeros(centroids.shape[0])\n",
    "for ix, data_point in enumerate(centroids):\n",
    "    distances = haversine(np.array(data_point).reshape(1,2), X).ravel()\n",
    "    mask = distances <= 250\n",
    "    X_train = X[mask]\n",
    "    y_train = y[mask]\n",
    "    idw.fit(X_train, y_train)\n",
    "    idw_predictions[ix] = idw.predict(data_point.reshape(1, 2))"
   ]
  },
  {
   "cell_type": "markdown",
   "id": "2d6c8197",
   "metadata": {},
   "source": [
    "### $k$-NN, with $k = 1$."
   ]
  },
  {
   "cell_type": "code",
   "execution_count": 18,
   "id": "f23786ad",
   "metadata": {},
   "outputs": [],
   "source": [
    "from polire.custom import CustomInterpolator\n",
    "from sklearn.neighbors import KNeighborsRegressor\n",
    "knn = CustomInterpolator(KNeighborsRegressor(n_neighbors=1))\n",
    "knn.fit(X, y)\n",
    "knn_predictions = knn.predict(centroids)"
   ]
  },
  {
   "cell_type": "code",
   "execution_count": 19,
   "id": "7f5fed03",
   "metadata": {},
   "outputs": [],
   "source": [
    "krig_predictions = np.array(krig_predictions).reshape(-1,1)"
   ]
  },
  {
   "cell_type": "code",
   "execution_count": 20,
   "id": "f1684da1",
   "metadata": {},
   "outputs": [],
   "source": [
    "spatial_predictions = np.array(spatial_predictions).reshape(-1,1)"
   ]
  },
  {
   "cell_type": "code",
   "execution_count": 21,
   "id": "b0256e9c",
   "metadata": {},
   "outputs": [],
   "source": [
    "idw_predictions = np.array(idw_predictions).reshape(-1,1)"
   ]
  },
  {
   "cell_type": "code",
   "execution_count": 22,
   "id": "c7730882",
   "metadata": {},
   "outputs": [],
   "source": [
    "gdf_krig_predictions = []\n",
    "gdf_knn_predictions = []\n",
    "gdf_idw_predictions = []\n",
    "gdf_spav_predictions = []\n",
    "\n",
    "ix = 0\n",
    "for i in range(gdf.shape[0]):\n",
    "    if mask1.values[i] == True:\n",
    "        gdf_krig_predictions.append(krig_predictions[ix][0])\n",
    "        ix = ix + 1\n",
    "    else:\n",
    "        gdf_krig_predictions.append(np.nan)\n",
    "\n",
    "ix = 0\n",
    "for i in range(gdf.shape[0]):\n",
    "    if mask1.values[i] == True:\n",
    "        gdf_spav_predictions.append(spatial_predictions[ix])\n",
    "        ix = ix + 1\n",
    "    else:\n",
    "        gdf_spav_predictions.append(np.nan)\n",
    "\n",
    "ix = 0\n",
    "for i in range(gdf.shape[0]):\n",
    "    if mask1.values[i] == True:\n",
    "        gdf_idw_predictions.append(idw_predictions[ix][0])\n",
    "        ix = ix + 1\n",
    "    else:\n",
    "        gdf_idw_predictions.append(np.nan)\n",
    "\n",
    "ix = 0\n",
    "for i in range(gdf.shape[0]):\n",
    "    if mask1.values[i] == True:\n",
    "        gdf_knn_predictions.append(knn_predictions[ix])\n",
    "        ix = ix + 1\n",
    "    else:\n",
    "        gdf_knn_predictions.append(np.nan)\n"
   ]
  },
  {
   "cell_type": "code",
   "execution_count": 23,
   "id": "08ad1418",
   "metadata": {},
   "outputs": [],
   "source": [
    "polygon = gdf.geometry.unary_union\n",
    "gdf2 = gpd.GeoDataFrame(geometry=[polygon], crs=gdf.crs)"
   ]
  },
  {
   "cell_type": "code",
   "execution_count": 24,
   "id": "1ec1939c",
   "metadata": {},
   "outputs": [],
   "source": [
    "from mpl_toolkits.axes_grid1 import make_axes_locatable"
   ]
  },
  {
   "cell_type": "code",
   "execution_count": 25,
   "id": "107ea109",
   "metadata": {},
   "outputs": [],
   "source": [
    "gdf['Kriging'] = gdf_krig_predictions\n",
    "gdf['IDW'] = gdf_idw_predictions\n",
    "gdf['Spatial'] = gdf_spav_predictions\n",
    "gdf['KNN'] = gdf_knn_predictions"
   ]
  },
  {
   "cell_type": "code",
   "execution_count": 26,
   "id": "6ad0de6d",
   "metadata": {},
   "outputs": [],
   "source": [
    "temp = []\n",
    "for i in gdf_spav_predictions:\n",
    "    try:\n",
    "        j = i[0]\n",
    "        temp.append(j)\n",
    "    except:\n",
    "        temp.append(i)"
   ]
  },
  {
   "cell_type": "code",
   "execution_count": 27,
   "id": "1fdb0d2c",
   "metadata": {},
   "outputs": [],
   "source": [
    "gdf['Spatial'] = temp"
   ]
  },
  {
   "cell_type": "code",
   "execution_count": 31,
   "id": "1652ff72",
   "metadata": {
    "scrolled": false
   },
   "outputs": [
    {
     "data": {
      "image/png": "[encoded data removed]",
      "text/plain": [
       "<Figure size 239.76x216 with 5 Axes>"
      ]
     },
     "metadata": {
      "needs_background": "light"
     },
     "output_type": "display_data"
    }
   ],
   "source": [
    "latexify(3.33, 3)\n",
    "fig, ax = plt.subplots(2,2)\n",
    "\n",
    "ax[0, 0].set_title(\"IDW\")\n",
    "gdf2.geometry.boundary.plot(color=None,edgecolor='black',linewidth = 0.5, ax=ax[0][0])\n",
    "gdf.plot(column='IDW', legend=False, ax = ax[0][0], cmap='Greys')\n",
    "ax[0, 0].axis('Off')\n",
    "\n",
    "ax[0, 1].set_title(\"Kriging\")\n",
    "gdf2.geometry.boundary.plot(color=None,edgecolor='black',linewidth = 0.5, ax=ax[0, 1])\n",
    "gdf.plot(column='Kriging', legend=False, ax = ax[0,1], cmap='Greys')\n",
    "ax[0, 1].axis('Off')\n",
    "\n",
    "ax[1, 0].set_title(\"Nearest neighbor\")\n",
    "gdf2.geometry.boundary.plot(color=None,edgecolor='black',linewidth = 0.5, ax=ax[1, 0])\n",
    "gdf.plot(column='KNN', legend=False, ax=ax[1, 0], cmap='Greys')\n",
    "ax[1,0].axis('Off')\n",
    "\n",
    "ax[1, 1].set_title(\"Spatial averaging\")\n",
    "\n",
    "gdf2.geometry.boundary.plot(color=None,edgecolor='black',linewidth = 0.5, ax=ax[1, 1])\n",
    "gdf.plot(column='Spatial', legend=False, ax=ax[1, 1], cmap='Greys')\n",
    "\n",
    "ax[1,1].axis('Off')\n",
    "\n",
    "vmin = 25\n",
    "vmax =86\n",
    "cax = fig.add_axes([1, 0.1, 0.03, 0.8])\n",
    "sm = matplotlib.cm.ScalarMappable(cmap='Greys', norm=plt.Normalize(vmin=vmin, vmax=vmax))\n",
    "# sm._A = []\n",
    "cbr = fig.colorbar(sm, cax=cax, cmap='Greys')\n",
    "cbr.ax.set_ylabel('interpolated values (ppb)', rotation=270, labelpad=13)\n",
    "# cbr.ax.tick_params(labelsize=60)\n",
    "\n",
    "plt.tight_layout()\n",
    "plt.savefig('../../figures/LA-O3.pdf', bbox_extra_artirsts=(cbr,), bbox_inches='tight');"
   ]
  },
  {
   "cell_type": "code",
   "execution_count": 29,
   "id": "702acef2",
   "metadata": {},
   "outputs": [
    {
     "name": "stdout",
     "output_type": "stream",
     "text": [
      "Finished in 0.7705044746398926 minutes\n"
     ]
    }
   ],
   "source": [
    "print('Finished in', (time()-init)/60, 'minutes')"
   ]
  }
 ],
 "metadata": {
  "kernelspec": {
   "display_name": "Python 3",
   "language": "python",
   "name": "python3"
  },
  "language_info": {
   "codemirror_mode": {
    "name": "ipython",
    "version": 3
   },
   "file_extension": ".py",
   "mimetype": "text/x-python",
   "name": "python",
   "nbconvert_exporter": "python",
   "pygments_lexer": "ipython3",
   "version": "3.8.8"
  }
 },
 "nbformat": 4,
 "nbformat_minor": 5
}
