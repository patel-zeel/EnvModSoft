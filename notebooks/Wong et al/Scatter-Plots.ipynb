{
 "cells": [
  {
   "cell_type": "markdown",
   "id": "393f1223",
   "metadata": {},
   "source": [
    "### Imports and latexify"
   ]
  },
  {
   "cell_type": "code",
   "execution_count": 1,
   "id": "09c9e372",
   "metadata": {},
   "outputs": [],
   "source": [
    "import pandas as pd\n",
    "import matplotlib.pyplot as plt\n",
    "import numpy as np\n",
    "import sys\n",
    "import warnings\n",
    "from time import time\n",
    "warnings.filterwarnings('ignore')\n",
    "\n",
    "from polire import Kriging, SpatialAverage\n",
    "init = time()"
   ]
  },
  {
   "cell_type": "code",
   "execution_count": 2,
   "id": "41766e29",
   "metadata": {},
   "outputs": [],
   "source": [
    "def latexify(fig_width=None, fig_height=None, columns=1):\n",
    "    \"\"\"Set up matplotlib's RC params for LaTeX plotting.\n",
    "    Call this before plotting a figure.\n",
    "\n",
    "    Parameters\n",
    "    ----------\n",
    "    fig_width : float, optional, inches\n",
    "    fig_height : float,  optional, inches\n",
    "    columns : {1, 2}\n",
    "    \"\"\"\n",
    "\n",
    "    # code adapted from http://www.scipy.org/Cookbook/Matplotlib/LaTeX_Examples\n",
    "\n",
    "    # Width and max height in inches for IEEE journals taken from\n",
    "    # computer.org/cms/Computer.org/Journal%20templates/transactions_art_guide.pdf\n",
    "\n",
    "    assert(columns in [1,2])\n",
    "\n",
    "    if fig_width is None:\n",
    "        fig_width = 3.33 if columns==1 else 6.9 # width in inches\n",
    "\n",
    "    if fig_height is None:\n",
    "        golden_mean = (5**.5-1.0)/2.0    # Aesthetic ratio\n",
    "        fig_height = fig_width*golden_mean # height in inches\n",
    "\n",
    "    MAX_HEIGHT_INCHES = 8.0\n",
    "    if fig_height > MAX_HEIGHT_INCHES:\n",
    "        print(\"WARNING: fig_height too large:\" + fig_height + \n",
    "              \"so will reduce to\" + MAX_HEIGHT_INCHES + \"inches.\")\n",
    "        fig_height = MAX_HEIGHT_INCHES\n",
    "\n",
    "    params = {'backend': 'ps',\n",
    "              'text.latex.preamble': [r'\\usepackage{gensymb}'],\n",
    "              'axes.labelsize': 8, # fontsize for x and y labels (was 8)\n",
    "              'axes.titlesize': 8,\n",
    "              'font.size': 8, # was 8\n",
    "              'legend.fontsize': 8, # was 8\n",
    "              'xtick.labelsize': 7,\n",
    "              'ytick.labelsize': 7,\n",
    "              'text.usetex': True,\n",
    "              'figure.figsize': [fig_width,fig_height],\n",
    "              'font.family': 'serif'\n",
    "    }\n",
    "\n",
    "    matplotlib.rcParams.update(params)\n",
    "\n",
    "\n",
    "def format_axes(ax):\n",
    "\n",
    "    for spine in ['top', 'right']:\n",
    "        ax.spines[spine].set_visible(False)\n",
    "\n",
    "    for spine in ['left', 'bottom']:\n",
    "        ax.spines[spine].set_color(SPINE_COLOR)\n",
    "        ax.spines[spine].set_linewidth(0.5)\n",
    "\n",
    "    ax.xaxis.set_ticks_position('bottom')\n",
    "    ax.yaxis.set_ticks_position('left')\n",
    "\n",
    "    for axis in [ax.xaxis, ax.yaxis]:\n",
    "        axis.set_tick_params(direction='out', color=SPINE_COLOR)\n",
    "\n",
    "    return ax"
   ]
  },
  {
   "cell_type": "code",
   "execution_count": 3,
   "id": "058080e0",
   "metadata": {},
   "outputs": [],
   "source": [
    "df = pd.read_csv(\"../../data/pm.csv.gz\")"
   ]
  },
  {
   "cell_type": "code",
   "execution_count": 4,
   "id": "f814f96b",
   "metadata": {},
   "outputs": [],
   "source": [
    "df = df.drop(columns=[ 'Source', \n",
    "       'UNITS', 'DAILY_AQI_VALUE', 'Site Name', 'DAILY_OBS_COUNT',\n",
    "        'AQS_PARAMETER_CODE', 'AQS_PARAMETER_DESC',\n",
    "       'CBSA_CODE','CBSA_NAME', 'POC'\n",
    "                ])"
   ]
  },
  {
   "cell_type": "code",
   "execution_count": 5,
   "id": "48f6c6e3",
   "metadata": {},
   "outputs": [],
   "source": [
    "ladf = df[df['COUNTY']=='Los Angeles']"
   ]
  },
  {
   "cell_type": "code",
   "execution_count": 6,
   "id": "a7ec563e",
   "metadata": {},
   "outputs": [],
   "source": [
    "## Function for validation of dataset\n",
    "def func_select_11(df):\n",
    "    t = df.groupby(['Date', 'Site ID', 'STATE', 'COUNTY_CODE','COUNTY']).mean()\n",
    "    t = t.reset_index(None)\n",
    "    t1 = t.groupby('Site ID').count()\n",
    "    t11 = t.set_index(['Site ID'])\n",
    "    t11 = t11[t1['Date']>11]\n",
    "    t11 = t11.reset_index(None)\n",
    "    return t11\n",
    "\n",
    "import math\n",
    "def haversine(lat1, lon1, lat2, lon2): \n",
    "    \"\"\"Code copied from GeeksforGeeks\"\"\"\n",
    "    # distance between latitudes \n",
    "    # and longitudes \n",
    "    dLat = (lat2 - lat1) * math.pi / 180.0\n",
    "    dLon = (lon2 - lon1) * math.pi / 180.0\n",
    "\n",
    "    # convert to radians \n",
    "    lat1 = (lat1) * math.pi / 180.0\n",
    "    lat2 = (lat2) * math.pi / 180.0\n",
    "\n",
    "    # apply formulae \n",
    "    a = (pow(math.sin(dLat / 2), 2) + \n",
    "         pow(math.sin(dLon / 2), 2) * \n",
    "             math.cos(lat1) * math.cos(lat2)); \n",
    "    rad = 6371\n",
    "    c = 2 * math.asin(math.sqrt(a)) \n",
    "    return rad * c \n",
    "\n",
    "def is_inside_circle(x, q, d):\n",
    "    \"\"\"Circle centered at $x \\in \\mathbb{R}^{n}$ of radius $d$. \n",
    "    Check if point q lies within the circle, or not\n",
    "    \"\"\"\n",
    "    val = haversine( x[0], x[1], q[0], q[1])\n",
    "    print(val)\n",
    "    if val < d:\n",
    "        return 1\n",
    "    else:\n",
    "        return 0"
   ]
  },
  {
   "cell_type": "markdown",
   "id": "41eec493",
   "metadata": {},
   "source": [
    "# Annual"
   ]
  },
  {
   "cell_type": "code",
   "execution_count": 7,
   "id": "46e40eb4",
   "metadata": {},
   "outputs": [],
   "source": [
    "from polire import Kriging, IDW"
   ]
  },
  {
   "cell_type": "code",
   "execution_count": 8,
   "id": "e1173b25",
   "metadata": {},
   "outputs": [],
   "source": [
    "la_centroids = np.load(\"../../data/block_groups/la_centroids.npy\")"
   ]
  },
  {
   "cell_type": "code",
   "execution_count": 9,
   "id": "6bced92c",
   "metadata": {
    "scrolled": true
   },
   "outputs": [],
   "source": [
    "la_annual = ladf.groupby('Site ID').mean()\n",
    "la_annual.drop(columns = ['COUNTY_CODE', 'PERCENT_COMPLETE'], inplace=True)\n",
    "\n",
    "X = la_annual[['SITE_LONGITUDE', 'SITE_LATITUDE']].values\n",
    "y = la_annual[['Daily Mean PM10 Concentration']]\n",
    "\n",
    "X[:, 0] = X[:, 0] + 360\n",
    "nlags = 40\n",
    "k = Kriging(variogram_model='spherical', coordinate_type='Geographic', nlags=nlags)\n",
    "k.fit(X, y.values.ravel())\n",
    "krig_predicted_la = k.predict(la_centroids)\n",
    "idw = IDW(coordinate_type=\"Geographic\", exponent=1)\n",
    "idw.fit(X, y.values.ravel())\n",
    "idw_predicted_la = idw.predict(la_centroids)"
   ]
  },
  {
   "cell_type": "code",
   "execution_count": 10,
   "id": "e4790d1c",
   "metadata": {},
   "outputs": [],
   "source": [
    "import matplotlib\n",
    "matplotlib.rcParams['text.usetex'] = True"
   ]
  },
  {
   "cell_type": "code",
   "execution_count": 11,
   "id": "c0fa1d76",
   "metadata": {},
   "outputs": [
    {
     "data": {
      "image/png": "[encoded data removed]",
      "text/plain": [
       "<Figure size 126x144 with 1 Axes>"
      ]
     },
     "metadata": {
      "needs_background": "light"
     },
     "output_type": "display_data"
    }
   ],
   "source": [
    "latexify(3.5/2, 3.5/2+0.25)\n",
    "plt.figure()\n",
    "plt.plot([i for i in range(100)], [i for i in range(100)], color='black', linewidth=0.5)\n",
    "plt.scatter(krig_predicted_la, idw_predicted_la,color='black', alpha=0.7, s=0.1)\n",
    "plt.xlim(20, 76)\n",
    "plt.ylim(20, 66)\n",
    "plt.xlabel(\"Krige\")\n",
    "plt.ylabel(\"IDW\")\n",
    "plt.tick_params(axis=\"both\")\n",
    "plt.title(\"Ours - Los Angeles, CA\");\n",
    "plt.tight_layout()\n",
    "plt.savefig('../../figures/scatter-LA.pdf')"
   ]
  },
  {
   "cell_type": "markdown",
   "id": "04694c7a",
   "metadata": {},
   "source": [
    "## FLORIDA"
   ]
  },
  {
   "cell_type": "code",
   "execution_count": 12,
   "id": "72f1ea23",
   "metadata": {},
   "outputs": [],
   "source": [
    "fldf = df[df['COUNTY']=='Duval']"
   ]
  },
  {
   "cell_type": "code",
   "execution_count": 13,
   "id": "b2efd57c",
   "metadata": {},
   "outputs": [],
   "source": [
    "fl_centroids = np.load(\"../../data/block_groups/duval_centroids.npy\")"
   ]
  },
  {
   "cell_type": "markdown",
   "id": "9e817166",
   "metadata": {},
   "source": [
    "# Annual"
   ]
  },
  {
   "cell_type": "code",
   "execution_count": 14,
   "id": "df7f0d20",
   "metadata": {},
   "outputs": [],
   "source": [
    "\n",
    "# valid_scal_4 =  func_select_11()\n",
    "annual_fl = fldf.copy()\n",
    "annual_fl = annual_fl.groupby('Site ID').mean()\n",
    "annual_fl.drop(columns = ['COUNTY_CODE', 'PERCENT_COMPLETE'], inplace=True)\n",
    "\n",
    "X = annual_fl[['SITE_LONGITUDE', 'SITE_LATITUDE']].values\n",
    "y = annual_fl[['Daily Mean PM10 Concentration']]\n",
    "\n",
    "X[:, 0] = X[:, 0] + 360\n",
    "nlags = 40\n",
    "k = Kriging(variogram_model='spherical', coordinate_type='Geographic', nlags=nlags)\n",
    "k.fit(X, y.values.ravel())\n",
    "krig_predicted_fl = k.predict(fl_centroids)\n",
    "idw = IDW(coordinate_type=\"Geographic\", exponent=1)\n",
    "idw.fit(X, y.values.ravel())\n",
    "idw_predicted_fl = idw.predict(fl_centroids)"
   ]
  },
  {
   "cell_type": "code",
   "execution_count": 15,
   "id": "55786588",
   "metadata": {},
   "outputs": [
    {
     "data": {
      "image/png": "[encoded data removed]",
      "text/plain": [
       "<Figure size 126x144 with 1 Axes>"
      ]
     },
     "metadata": {
      "needs_background": "light"
     },
     "output_type": "display_data"
    }
   ],
   "source": [
    "latexify(3.5/2, 3.5/2+0.25)\n",
    "plt.plot([i for i in range(100)], [i for i in range(100)], color='black', linewidth=0.5)\n",
    "plt.scatter(krig_predicted_fl, idw_predicted_fl,color='black', alpha=0.7,s=0.1)\n",
    "plt.xlim(20, 76)\n",
    "plt.ylim(20, 66)\n",
    "plt.xlabel(\"Krige\")\n",
    "plt.ylabel(\"IDW\")\n",
    "plt.tick_params(axis=\"both\")\n",
    "plt.title(\"Ours - Duval, FL\");\n",
    "plt.tight_layout()\n",
    "plt.savefig('../../figures/scatter-duvel.pdf')"
   ]
  },
  {
   "cell_type": "markdown",
   "id": "60d73c73",
   "metadata": {},
   "source": [
    "## All Counties"
   ]
  },
  {
   "cell_type": "code",
   "execution_count": 16,
   "id": "f2654fd2",
   "metadata": {},
   "outputs": [],
   "source": [
    "states = df['STATE'].unique()\n",
    "nw = ['Washington', 'Oregon', 'Wyoming','Idaho', 'Montana', 'Colorado','Utah','Nevada']\n",
    "sc = ['California']\n",
    "mw = ['West Virginia', 'Illinois', 'Indiana', 'Iowa', 'Kansas', 'Michigan', 'Minnesota', 'Missouri', 'Nebraska', 'North Dakota', 'Ohio', 'South Dakota', 'Wisconsin']\n",
    "se = ['Oklahoma','Florida', 'Alabama', 'Georgia',  'Tennessee', 'South Carolina', 'North Carolina', 'Virginia', 'Louisiana', 'Arkansas', 'Texas', 'Kentucky']\n",
    "ne = ['Connecticut',\n",
    " 'Delaware',\n",
    " 'Maine',\n",
    " 'Maryland',\n",
    " 'Massachusetts',\n",
    " 'New Hampshire',\n",
    " 'New Jersey',\n",
    " 'New York',\n",
    " 'Pennsylvania',\n",
    " 'Rhode Island',\n",
    " 'Vermont','District Of Columbia'\n",
    "]\n"
   ]
  },
  {
   "cell_type": "code",
   "execution_count": 17,
   "id": "5c3f046d",
   "metadata": {},
   "outputs": [],
   "source": [
    "nwdf = df[np.isin(df['STATE'], nw)]\n",
    "mwdf = df[np.isin(df['STATE'], mw)]\n",
    "sedf = df[np.isin(df['STATE'], se)]\n",
    "nedf = df[np.isin(df['STATE'], ne)]\n",
    "cal = df[np.isin(df['STATE'], ['California'])]\n",
    "ncal = cal[cal['SITE_LATITUDE']>=34.81]\n",
    "scal = cal[cal['SITE_LATITUDE']<34.81]\n",
    "nwdf = pd.concat([nwdf, ncal])"
   ]
  },
  {
   "cell_type": "code",
   "execution_count": 18,
   "id": "5020e215",
   "metadata": {},
   "outputs": [],
   "source": [
    "idw_annual = []\n",
    "krig_annual = []"
   ]
  },
  {
   "cell_type": "code",
   "execution_count": 19,
   "id": "87921357",
   "metadata": {},
   "outputs": [],
   "source": [
    "def compute_idw_krig(df, centroids, nlags):\n",
    "    annual = df.copy()\n",
    "    annual = annual.groupby('Site ID').mean()\n",
    "    annual.drop(columns = ['COUNTY_CODE', 'PERCENT_COMPLETE'], inplace =True)\n",
    "    X = annual[['SITE_LONGITUDE', 'SITE_LATITUDE']].values\n",
    "    y = annual[['Daily Mean PM10 Concentration']]\n",
    "    X[:, 0] = X[:, 0] + 360\n",
    "    k = Kriging(variogram_model='spherical', coordinate_type='Geographic', nlags=nlags)\n",
    "    k.fit(X, y.values.ravel())\n",
    "    krig_predicted = k.predict(centroids)\n",
    "    idw = IDW(coordinate_type=\"Geographic\", exponent=1)\n",
    "    idw.fit(X, y.values.ravel())\n",
    "    idw_predicted = idw.predict(centroids)\n",
    "    return krig_predicted, idw_predicted"
   ]
  },
  {
   "cell_type": "code",
   "execution_count": 20,
   "id": "82b84309",
   "metadata": {},
   "outputs": [],
   "source": [
    "import geopandas as gpd"
   ]
  },
  {
   "cell_type": "code",
   "execution_count": 21,
   "id": "23191f2f",
   "metadata": {},
   "outputs": [],
   "source": [
    "gdf = gpd.read_file(\"../../data/block_groups/USA_Block_Groups.shp\")"
   ]
  },
  {
   "cell_type": "code",
   "execution_count": 22,
   "id": "4233d7bf",
   "metadata": {},
   "outputs": [],
   "source": [
    "states = scal['STATE_CODE'].unique()"
   ]
  },
  {
   "cell_type": "code",
   "execution_count": 23,
   "id": "5863f721",
   "metadata": {},
   "outputs": [],
   "source": [
    "def resize(x):\n",
    "    if len(str(x))==1:\n",
    "        return '0'+str(x)\n",
    "    else:\n",
    "        return str(x)"
   ]
  },
  {
   "cell_type": "code",
   "execution_count": 24,
   "id": "1e87991e",
   "metadata": {},
   "outputs": [],
   "source": [
    "def get_centroids(gdf):\n",
    "    shapes = gdf['geometry'].unique()\n",
    "    centroids = [shapes[i].centroid.wkt for i in range(len(shapes))]\n",
    "    centroids = [centroids[i].split(' ')[1:] for i in range(len(centroids))]\n",
    "    centroids = [[np.float64(centroids[i][0][1:]), np.float64(centroids[i][1][:-1])] for i in range(len(centroids))]\n",
    "    centroids = np.array(centroids)\n",
    "    return centroids"
   ]
  },
  {
   "cell_type": "code",
   "execution_count": 25,
   "id": "460e0212",
   "metadata": {},
   "outputs": [],
   "source": [
    "def make_gdf(df, gdf):\n",
    "    states = df['STATE_CODE'].unique()\n",
    "    tgdf = gdf[gdf['STATE_FIPS'].isin([resize(x) for x in states])]\n",
    "    return tgdf"
   ]
  },
  {
   "cell_type": "markdown",
   "id": "029b791a",
   "metadata": {},
   "source": [
    "## Northeast -> Kriging Annual"
   ]
  },
  {
   "cell_type": "code",
   "execution_count": 26,
   "id": "376e0514",
   "metadata": {},
   "outputs": [],
   "source": [
    "ne_gdf = make_gdf(nedf, gdf)\n",
    "ne_centroids = get_centroids(ne_gdf)\n",
    "ne_krig, ne_idw = compute_idw_krig(nedf, ne_centroids, nlags = 40)"
   ]
  },
  {
   "cell_type": "markdown",
   "id": "a558084b",
   "metadata": {},
   "source": [
    "## Northwest -> Kriging Annual"
   ]
  },
  {
   "cell_type": "code",
   "execution_count": 27,
   "id": "7d433180",
   "metadata": {},
   "outputs": [],
   "source": [
    "nw_gdf = make_gdf(nwdf, gdf)\n",
    "nw_centroids = get_centroids(nw_gdf)\n",
    "nw_centroids = nw_centroids[nw_centroids[:, 1]>=34.81]\n",
    "nw_krig, nw_idw = compute_idw_krig(nwdf, nw_centroids, nlags = 17)"
   ]
  },
  {
   "cell_type": "markdown",
   "id": "8a18993e",
   "metadata": {},
   "source": [
    "## Southeast -> Kriging Annual"
   ]
  },
  {
   "cell_type": "code",
   "execution_count": 28,
   "id": "6875be71",
   "metadata": {},
   "outputs": [],
   "source": [
    "se_gdf = make_gdf(sedf, gdf)\n",
    "se_centroids = get_centroids(se_gdf)\n",
    "se_krig, se_idw = compute_idw_krig(sedf, se_centroids, nlags = 40)"
   ]
  },
  {
   "cell_type": "markdown",
   "id": "854653b7",
   "metadata": {},
   "source": [
    "## SoCal -> Kriging Annual"
   ]
  },
  {
   "cell_type": "code",
   "execution_count": 29,
   "id": "0ed81d70",
   "metadata": {},
   "outputs": [],
   "source": [
    "socal_gdf = make_gdf(scal, gdf)\n",
    "socal_centroids = get_centroids(socal_gdf)\n",
    "socal_centroids = socal_centroids[socal_centroids[:, 1]<=34.81]\n",
    "socal_krig, socal_idw = compute_idw_krig(scal, socal_centroids, nlags = 17)"
   ]
  },
  {
   "cell_type": "markdown",
   "id": "e9b3730a",
   "metadata": {},
   "source": [
    "## MidWest -> Kriging Annual"
   ]
  },
  {
   "cell_type": "code",
   "execution_count": 30,
   "id": "63bf8798",
   "metadata": {},
   "outputs": [],
   "source": [
    "mw_gdf = make_gdf(mwdf, gdf)\n",
    "mw_centroids = get_centroids(mw_gdf)\n",
    "mw_krig, mw_idw = compute_idw_krig(mwdf, mw_centroids, nlags = 40)"
   ]
  },
  {
   "cell_type": "code",
   "execution_count": 31,
   "id": "511f7f25",
   "metadata": {},
   "outputs": [],
   "source": [
    "usa_kriging = [np.array(ne_krig), np.array(nw_krig), np.array(se_krig), np.array(socal_krig), np.array(mw_krig)]\n",
    "usa_idw = [ne_idw.reshape(-1,), nw_idw.reshape(-1,), se_idw.reshape(-1,), socal_idw.reshape(-1,), mw_idw.reshape(-1,)]"
   ]
  },
  {
   "cell_type": "code",
   "execution_count": 32,
   "id": "258d948a",
   "metadata": {},
   "outputs": [
    {
     "data": {
      "text/plain": [
       "((47161,), (26995,))"
      ]
     },
     "execution_count": 32,
     "metadata": {},
     "output_type": "execute_result"
    }
   ],
   "source": [
    "usa_kriging[0].shape, usa_kriging[1].shape"
   ]
  },
  {
   "cell_type": "code",
   "execution_count": 33,
   "id": "fd83f8f8",
   "metadata": {},
   "outputs": [],
   "source": [
    "usa_kriging_final = usa_kriging[0]\n",
    "for i in range(1, 5):\n",
    "    usa_kriging_final = np.append(usa_kriging_final, usa_kriging[i])"
   ]
  },
  {
   "cell_type": "code",
   "execution_count": 34,
   "id": "a76e9b2f",
   "metadata": {},
   "outputs": [],
   "source": [
    "usa_idw_final = usa_idw[0]\n",
    "for i in range(1, 5):\n",
    "    usa_idw_final = np.append(usa_idw_final, usa_idw[i])"
   ]
  },
  {
   "cell_type": "code",
   "execution_count": 35,
   "id": "035be568",
   "metadata": {},
   "outputs": [
    {
     "data": {
      "image/png": "[encoded data removed]",
      "text/plain": [
       "<Figure size 126x144 with 1 Axes>"
      ]
     },
     "metadata": {
      "needs_background": "light"
     },
     "output_type": "display_data"
    }
   ],
   "source": [
    "latexify(3.5/2, 3.5/2+0.25)\n",
    "plt.plot([i for i in range(100)], [i for i in range(100)], color='black')\n",
    "plt.scatter(usa_kriging_final, usa_idw_final,color='black', alpha=0.7,s=0.1)\n",
    "plt.xlim(20, 76)\n",
    "plt.ylim(20, 66)\n",
    "plt.xlabel(\"Krige\")\n",
    "plt.ylabel(\"IDW\")\n",
    "plt.tick_params(axis=\"both\")\n",
    "plt.title(\"Ours - All counties in the USA\")\n",
    "plt.tight_layout()\n",
    "plt.savefig('../../figures/scatter-ALL.pdf')"
   ]
  },
  {
   "cell_type": "code",
   "execution_count": 36,
   "id": "59a38d3d",
   "metadata": {},
   "outputs": [
    {
     "name": "stdout",
     "output_type": "stream",
     "text": [
      "Finished in 1.5265153805414835 minutes\n"
     ]
    }
   ],
   "source": [
    "print('Finished in', (time()-init)/60, 'minutes')"
   ]
  }
 ],
 "metadata": {
  "kernelspec": {
   "display_name": "Python 3",
   "language": "python",
   "name": "python3"
  },
  "language_info": {
   "codemirror_mode": {
    "name": "ipython",
    "version": 3
   },
   "file_extension": ".py",
   "mimetype": "text/x-python",
   "name": "python",
   "nbconvert_exporter": "python",
   "pygments_lexer": "ipython3",
   "version": "3.8.8"
  }
 },
 "nbformat": 4,
 "nbformat_minor": 5
}
