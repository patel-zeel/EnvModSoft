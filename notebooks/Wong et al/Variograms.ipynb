{
 "cells": [
  {
   "cell_type": "markdown",
   "id": "58133042",
   "metadata": {},
   "source": [
    "### Package Imports"
   ]
  },
  {
   "cell_type": "code",
   "execution_count": 1,
   "id": "fe044739",
   "metadata": {},
   "outputs": [],
   "source": [
    "from time import time\n",
    "import pandas as pd\n",
    "import matplotlib.pyplot as plt\n",
    "import matplotlib\n",
    "import numpy as np\n",
    "import sys\n",
    "import warnings\n",
    "warnings.filterwarnings('ignore')\n",
    "\n",
    "init = time()"
   ]
  },
  {
   "cell_type": "markdown",
   "id": "16bd651e",
   "metadata": {},
   "source": [
    "### Latexify for LaTeX ready plots"
   ]
  },
  {
   "cell_type": "code",
   "execution_count": 2,
   "id": "33739cf2",
   "metadata": {},
   "outputs": [],
   "source": [
    "def latexify(fig_width=None, fig_height=None, columns=1):\n",
    "    \"\"\"Set up matplotlib's RC params for LaTeX plotting.\n",
    "    Call this before plotting a figure.\n",
    "\n",
    "    Parameters\n",
    "    ----------\n",
    "    fig_width : float, optional, inches\n",
    "    fig_height : float,  optional, inches\n",
    "    columns : {1, 2}\n",
    "    \"\"\"\n",
    "\n",
    "    # code adapted from http://www.scipy.org/Cookbook/Matplotlib/LaTeX_Examples\n",
    "\n",
    "    # Width and max height in inches for IEEE journals taken from\n",
    "    # computer.org/cms/Computer.org/Journal%20templates/transactions_art_guide.pdf\n",
    "\n",
    "    assert(columns in [1,2])\n",
    "\n",
    "    if fig_width is None:\n",
    "        fig_width = 3.33 if columns==1 else 6.9 # width in inches\n",
    "\n",
    "    if fig_height is None:\n",
    "        golden_mean = (5**.5-1.0)/2.0    # Aesthetic ratio\n",
    "        fig_height = fig_width*golden_mean # height in inches\n",
    "\n",
    "    MAX_HEIGHT_INCHES = 8.0\n",
    "    if fig_height > MAX_HEIGHT_INCHES:\n",
    "        print(\"WARNING: fig_height too large:\" + fig_height + \n",
    "              \"so will reduce to\" + MAX_HEIGHT_INCHES + \"inches.\")\n",
    "        fig_height = MAX_HEIGHT_INCHES\n",
    "\n",
    "    params = {'backend': 'ps',\n",
    "              'text.latex.preamble': [r'\\usepackage{gensymb}'],\n",
    "              'axes.labelsize': 8, # fontsize for x and y labels (was 8)\n",
    "              'axes.titlesize': 8,\n",
    "              'font.size': 8, # was 8\n",
    "              'legend.fontsize': 8, # was 8\n",
    "              'xtick.labelsize': 7,\n",
    "              'ytick.labelsize': 7,\n",
    "              'text.usetex': True,\n",
    "              'figure.figsize': [fig_width,fig_height],\n",
    "              'font.family': 'serif'\n",
    "    }\n",
    "\n",
    "    matplotlib.rcParams.update(params)\n",
    "\n",
    "\n",
    "def format_axes(ax):\n",
    "\n",
    "    for spine in ['top', 'right']:\n",
    "        ax.spines[spine].set_visible(False)\n",
    "\n",
    "    for spine in ['left', 'bottom']:\n",
    "        ax.spines[spine].set_color(SPINE_COLOR)\n",
    "        ax.spines[spine].set_linewidth(0.5)\n",
    "\n",
    "    ax.xaxis.set_ticks_position('bottom')\n",
    "    ax.yaxis.set_ticks_position('left')\n",
    "\n",
    "    for axis in [ax.xaxis, ax.yaxis]:\n",
    "        axis.set_tick_params(direction='out', color=SPINE_COLOR)\n",
    "\n",
    "    return ax"
   ]
  },
  {
   "cell_type": "markdown",
   "id": "eb700d41",
   "metadata": {},
   "source": [
    "### Import kriging"
   ]
  },
  {
   "cell_type": "code",
   "execution_count": 3,
   "id": "979bec78",
   "metadata": {},
   "outputs": [],
   "source": [
    "from polire import Kriging"
   ]
  },
  {
   "cell_type": "markdown",
   "id": "714efc27",
   "metadata": {},
   "source": [
    "### Dataset loading"
   ]
  },
  {
   "cell_type": "code",
   "execution_count": 4,
   "id": "856b3044",
   "metadata": {},
   "outputs": [
    {
     "data": {
      "text/html": [
       "<div>\n",
       "<style scoped>\n",
       "    .dataframe tbody tr th:only-of-type {\n",
       "        vertical-align: middle;\n",
       "    }\n",
       "\n",
       "    .dataframe tbody tr th {\n",
       "        vertical-align: top;\n",
       "    }\n",
       "\n",
       "    .dataframe thead th {\n",
       "        text-align: right;\n",
       "    }\n",
       "</style>\n",
       "<table border=\"1\" class=\"dataframe\">\n",
       "  <thead>\n",
       "    <tr style=\"text-align: right;\">\n",
       "      <th></th>\n",
       "      <th>Date</th>\n",
       "      <th>Source</th>\n",
       "      <th>Site ID</th>\n",
       "      <th>POC</th>\n",
       "      <th>Daily Mean PM10 Concentration</th>\n",
       "      <th>UNITS</th>\n",
       "      <th>DAILY_AQI_VALUE</th>\n",
       "      <th>Site Name</th>\n",
       "      <th>DAILY_OBS_COUNT</th>\n",
       "      <th>PERCENT_COMPLETE</th>\n",
       "      <th>AQS_PARAMETER_CODE</th>\n",
       "      <th>AQS_PARAMETER_DESC</th>\n",
       "      <th>CBSA_CODE</th>\n",
       "      <th>CBSA_NAME</th>\n",
       "      <th>STATE_CODE</th>\n",
       "      <th>STATE</th>\n",
       "      <th>COUNTY_CODE</th>\n",
       "      <th>COUNTY</th>\n",
       "      <th>SITE_LATITUDE</th>\n",
       "      <th>SITE_LONGITUDE</th>\n",
       "    </tr>\n",
       "  </thead>\n",
       "  <tbody>\n",
       "    <tr>\n",
       "      <th>0</th>\n",
       "      <td>01/11/1990</td>\n",
       "      <td>AQS</td>\n",
       "      <td>120111003</td>\n",
       "      <td>1</td>\n",
       "      <td>45</td>\n",
       "      <td>ug/m3 SC</td>\n",
       "      <td>42</td>\n",
       "      <td>NaN</td>\n",
       "      <td>1</td>\n",
       "      <td>100.0</td>\n",
       "      <td>81102</td>\n",
       "      <td>PM10 Total 0-10um STP</td>\n",
       "      <td>33100.0</td>\n",
       "      <td>Miami-Fort Lauderdale-West Palm Beach, FL</td>\n",
       "      <td>12</td>\n",
       "      <td>Florida</td>\n",
       "      <td>11</td>\n",
       "      <td>Broward</td>\n",
       "      <td>26.129531</td>\n",
       "      <td>-80.168379</td>\n",
       "    </tr>\n",
       "    <tr>\n",
       "      <th>1</th>\n",
       "      <td>01/17/1990</td>\n",
       "      <td>AQS</td>\n",
       "      <td>120111003</td>\n",
       "      <td>1</td>\n",
       "      <td>21</td>\n",
       "      <td>ug/m3 SC</td>\n",
       "      <td>19</td>\n",
       "      <td>NaN</td>\n",
       "      <td>1</td>\n",
       "      <td>100.0</td>\n",
       "      <td>81102</td>\n",
       "      <td>PM10 Total 0-10um STP</td>\n",
       "      <td>33100.0</td>\n",
       "      <td>Miami-Fort Lauderdale-West Palm Beach, FL</td>\n",
       "      <td>12</td>\n",
       "      <td>Florida</td>\n",
       "      <td>11</td>\n",
       "      <td>Broward</td>\n",
       "      <td>26.129531</td>\n",
       "      <td>-80.168379</td>\n",
       "    </tr>\n",
       "  </tbody>\n",
       "</table>\n",
       "</div>"
      ],
      "text/plain": [
       "         Date Source    Site ID  POC  Daily Mean PM10 Concentration     UNITS  \\\n",
       "0  01/11/1990    AQS  120111003    1                             45  ug/m3 SC   \n",
       "1  01/17/1990    AQS  120111003    1                             21  ug/m3 SC   \n",
       "\n",
       "   DAILY_AQI_VALUE Site Name  DAILY_OBS_COUNT  PERCENT_COMPLETE  \\\n",
       "0               42       NaN                1             100.0   \n",
       "1               19       NaN                1             100.0   \n",
       "\n",
       "   AQS_PARAMETER_CODE     AQS_PARAMETER_DESC  CBSA_CODE  \\\n",
       "0               81102  PM10 Total 0-10um STP    33100.0   \n",
       "1               81102  PM10 Total 0-10um STP    33100.0   \n",
       "\n",
       "                                   CBSA_NAME  STATE_CODE    STATE  \\\n",
       "0  Miami-Fort Lauderdale-West Palm Beach, FL          12  Florida   \n",
       "1  Miami-Fort Lauderdale-West Palm Beach, FL          12  Florida   \n",
       "\n",
       "   COUNTY_CODE   COUNTY  SITE_LATITUDE  SITE_LONGITUDE  \n",
       "0           11  Broward      26.129531      -80.168379  \n",
       "1           11  Broward      26.129531      -80.168379  "
      ]
     },
     "execution_count": 4,
     "metadata": {},
     "output_type": "execute_result"
    }
   ],
   "source": [
    "df = pd.read_csv(\"../../data/pm.csv.gz\")\n",
    "df.head(2)"
   ]
  },
  {
   "cell_type": "code",
   "execution_count": 5,
   "id": "5227fb3c",
   "metadata": {},
   "outputs": [],
   "source": [
    "tdf = df.drop(columns=[ 'Source', \n",
    "       'UNITS', 'DAILY_AQI_VALUE', 'Site Name', 'DAILY_OBS_COUNT',\n",
    "        'AQS_PARAMETER_CODE', 'AQS_PARAMETER_DESC',\n",
    "       'STATE_CODE', 'CBSA_CODE','CBSA_NAME', 'POC'\n",
    "                ])"
   ]
  },
  {
   "cell_type": "markdown",
   "id": "f940ef57",
   "metadata": {},
   "source": [
    "## REMOVE UNUSED STATES"
   ]
  },
  {
   "cell_type": "code",
   "execution_count": 6,
   "id": "e67fb077",
   "metadata": {},
   "outputs": [],
   "source": [
    "tdf = tdf[tdf['STATE']!='Hawaii']\n",
    "tdf = tdf[tdf['STATE']!='Alaska']"
   ]
  },
  {
   "cell_type": "code",
   "execution_count": 7,
   "id": "0db63a12",
   "metadata": {},
   "outputs": [],
   "source": [
    "t1 = pd.concat([tdf[tdf['SITE_LONGITUDE']<-104.01], tdf[tdf['SITE_LONGITUDE']>-99.42]])"
   ]
  },
  {
   "cell_type": "code",
   "execution_count": 8,
   "id": "ef6edb2e",
   "metadata": {},
   "outputs": [],
   "source": [
    "t1 = t1[t1['STATE']!='New Mexico']\n",
    "t1 = t1[t1['STATE']!='Arizona']"
   ]
  },
  {
   "cell_type": "markdown",
   "id": "79cad112",
   "metadata": {},
   "source": [
    "# removed missippi"
   ]
  },
  {
   "cell_type": "code",
   "execution_count": 9,
   "id": "5f3d5f7d",
   "metadata": {},
   "outputs": [],
   "source": [
    "states = t1['STATE'].unique()\n",
    "nw = ['Washington', 'Oregon', 'Wyoming','Idaho', 'Montana', 'Colorado','Utah','Nevada']\n",
    "sc = ['California']\n",
    "mw = ['West Virginia', 'Illinois', 'Indiana', 'Iowa', 'Kansas', 'Michigan', 'Minnesota', 'Missouri', 'Nebraska', 'North Dakota', 'Ohio', 'South Dakota', 'Wisconsin']\n",
    "se = ['Oklahoma','Florida', 'Alabama', 'Georgia',  'Tennessee', 'South Carolina', 'North Carolina', 'Virginia', 'Louisiana', 'Arkansas', 'Texas', 'Kentucky']\n",
    "ne = ['Connecticut',\n",
    " 'Delaware',\n",
    " 'Maine',\n",
    " 'Maryland',\n",
    " 'Massachusetts',\n",
    " 'New Hampshire',\n",
    " 'New Jersey',\n",
    " 'New York',\n",
    " 'Pennsylvania',\n",
    " 'Rhode Island',\n",
    " 'Vermont','District Of Columbia'\n",
    "]\n"
   ]
  },
  {
   "cell_type": "code",
   "execution_count": 10,
   "id": "55e0d96f",
   "metadata": {},
   "outputs": [],
   "source": [
    "nwdf = t1[np.isin(t1['STATE'], nw)]\n",
    "mwdf = t1[np.isin(t1['STATE'], mw)]\n",
    "sedf = t1[np.isin(t1['STATE'], se)]\n",
    "nedf = t1[np.isin(t1['STATE'], ne)]\n",
    "cal = t1[np.isin(t1['STATE'], ['California'])]\n",
    "ncal = cal[cal['SITE_LATITUDE']>=34.81]\n",
    "scal = cal[cal['SITE_LATITUDE']<34.81]\n",
    "nwdf = pd.concat([nwdf, ncal])"
   ]
  },
  {
   "cell_type": "markdown",
   "id": "c531671a",
   "metadata": {},
   "source": [
    "## 5 Regions under consideration\n",
    "1. Northwest = [Washington, Oregon and Wyoming along with Idaho, Montana]\n",
    "2. South California = Everything in California at latitude less than 35.70\n",
    "3. Midwest = [ Illinois, Indiana, Iowa, Kansas, Michigan, Minnesota, Missouri, Nebraska, North Dakota, Ohio, South Dakota, and Wisconsin]\n",
    "4. Southeast = [Florida, Alabama, Georgia, Mississippi, Tennessee, South Carolina, North Carolina, Virginia, Louisiana, Arkansas, and Texas. Kentucky, Maryland]\n",
    "5. Northeast = \n"
   ]
  },
  {
   "cell_type": "markdown",
   "id": "d0212509",
   "metadata": {},
   "source": [
    "## VALIDATION OF THE DATA BEFORE USAGE"
   ]
  },
  {
   "cell_type": "code",
   "execution_count": 11,
   "id": "28c9e51a",
   "metadata": {
    "scrolled": false
   },
   "outputs": [],
   "source": [
    "def func_select_11(df):\n",
    "    t = df.groupby(['Date', 'Site ID', 'STATE', 'COUNTY_CODE','COUNTY']).mean()\n",
    "    t = t.reset_index(None)\n",
    "    t1 = t.groupby('Site ID').count()\n",
    "    t11 = t.set_index(['Site ID'])\n",
    "    t11 = t11[t1['Date']>11]\n",
    "    t11 = t11.reset_index(None)\n",
    "    return t11"
   ]
  },
  {
   "cell_type": "markdown",
   "id": "c240857e",
   "metadata": {},
   "source": [
    "* Industrial Midwest Annual\n",
    "* Northeast Q2\n",
    "* Northwest Q1\n",
    "* Southern California Annual\n",
    "* Southeast Q3"
   ]
  },
  {
   "cell_type": "markdown",
   "id": "df46d200",
   "metadata": {},
   "source": [
    "    if str1=='Industrial Midwest' or str1=='Northeast' or str1=='Southeast':\n",
    "        nlags = 40\n",
    "    else:\n",
    "        nlags = 17\n"
   ]
  },
  {
   "cell_type": "code",
   "execution_count": 12,
   "id": "97467e20",
   "metadata": {},
   "outputs": [
    {
     "name": "stdout",
     "output_type": "stream",
     "text": [
      "PM10- VALUES MEAN =  29.567450442142068\n"
     ]
    },
    {
     "data": {
      "image/png": "[encoded data removed]",
      "text/plain": [
       "<Figure size 432x288 with 1 Axes>"
      ]
     },
     "metadata": {
      "needs_background": "light"
     },
     "output_type": "display_data"
    },
    {
     "name": "stdout",
     "output_type": "stream",
     "text": [
      "PM10- VALUES MEAN =  23.18392861890126\n"
     ]
    },
    {
     "data": {
      "image/png": "[encoded data removed]",
      "text/plain": [
       "<Figure size 432x288 with 1 Axes>"
      ]
     },
     "metadata": {
      "needs_background": "light"
     },
     "output_type": "display_data"
    },
    {
     "name": "stdout",
     "output_type": "stream",
     "text": [
      "Q1\n",
      "PM10- VALUES MEAN =  32.04300716806007\n"
     ]
    },
    {
     "data": {
      "image/png": "[encoded data removed]",
      "text/plain": [
       "<Figure size 432x288 with 1 Axes>"
      ]
     },
     "metadata": {
      "needs_background": "light"
     },
     "output_type": "display_data"
    },
    {
     "name": "stdout",
     "output_type": "stream",
     "text": [
      "PM10- VALUES MEAN =  39.19482940832278\n"
     ]
    },
    {
     "data": {
      "image/png": "[encoded data removed]",
      "text/plain": [
       "<Figure size 432x288 with 1 Axes>"
      ]
     },
     "metadata": {
      "needs_background": "light"
     },
     "output_type": "display_data"
    },
    {
     "name": "stdout",
     "output_type": "stream",
     "text": [
      "PM10- VALUES MEAN =  36.7580826019596\n"
     ]
    },
    {
     "data": {
      "image/png": "[encoded data removed]",
      "text/plain": [
       "<Figure size 432x288 with 1 Axes>"
      ]
     },
     "metadata": {
      "needs_background": "light"
     },
     "output_type": "display_data"
    },
    {
     "data": {
      "text/plain": [
       "Kriging"
      ]
     },
     "execution_count": 12,
     "metadata": {},
     "output_type": "execute_result"
    }
   ],
   "source": [
    "# Industrial Midwest Annual\n",
    "nlags = 40\n",
    "annual_scal = mwdf.groupby('Site ID').mean()\n",
    "annual_scal.drop(columns = ['COUNTY_CODE', 'PERCENT_COMPLETE'], inplace=True)\n",
    "X = annual_scal[['SITE_LONGITUDE', 'SITE_LATITUDE']].values\n",
    "y = annual_scal['Daily Mean PM10 Concentration']\n",
    "print(\"PM10- VALUES MEAN = \", y.values.mean())\n",
    "X[:, 0] = X[:, 0] + 360\n",
    "k1 = Kriging(plotting=True, variogram_model='spherical', coordinate_type='Geographic', nlags=nlags)\n",
    "k1.fit(X, y)\n",
    "\n",
    "# Northeast Q2\n",
    "nlags = 40\n",
    "neq2 = nedf[(nedf['Date']>='04/01/1990').values & (nedf['Date']<='06/30/1990').values]\n",
    "valid_scal_2 =  func_select_11(neq2)\n",
    "valid_scal_2 = valid_scal_2.groupby('Site ID').mean()\n",
    "valid_scal_2.drop(columns = ['COUNTY_CODE', 'PERCENT_COMPLETE'], inplace=True)\n",
    "X = valid_scal_2[['SITE_LONGITUDE', 'SITE_LATITUDE']].values\n",
    "y = valid_scal_2['Daily Mean PM10 Concentration']\n",
    "X[:, 0] = X[:, 0] + 360\n",
    "print(\"PM10- VALUES MEAN = \", y.values.mean())\n",
    "k2 = Kriging(plotting=True, variogram_model='spherical', coordinate_type='Geographic', nlags=nlags)\n",
    "k2.fit(X, y)\n",
    "\n",
    "# Northwest Q1\n",
    "nlags = 17\n",
    "nwq1 = nwdf[nwdf['Date']<='03/31/1990']\n",
    "valid_scal_1 =  func_select_11(nwq1)\n",
    "valid_scal_1 = valid_scal_1.groupby('Site ID').mean()\n",
    "valid_scal_1.drop(columns = ['COUNTY_CODE', 'PERCENT_COMPLETE'], inplace=True)\n",
    "X = valid_scal_1[['SITE_LONGITUDE', 'SITE_LATITUDE']].values\n",
    "y = valid_scal_1['Daily Mean PM10 Concentration']\n",
    "X[:, 0] = X[:, 0] + 360\n",
    "print(\"Q1\")\n",
    "print(\"PM10- VALUES MEAN = \", y.values.mean())\n",
    "k3 = Kriging(plotting=True, variogram_model='spherical', coordinate_type='Geographic', nlags=nlags)\n",
    "k3.fit(X, y)\n",
    "\n",
    "# Southern California Annual\n",
    "nlags = 17\n",
    "annual_scal = scal.groupby('Site ID').mean()\n",
    "annual_scal.drop(columns = ['COUNTY_CODE', 'PERCENT_COMPLETE'], inplace=True)\n",
    "X = annual_scal[['SITE_LONGITUDE', 'SITE_LATITUDE']].values\n",
    "y = annual_scal['Daily Mean PM10 Concentration']\n",
    "print(\"PM10- VALUES MEAN = \", y.values.mean())\n",
    "X[:, 0] = X[:, 0] + 360\n",
    "k4 = Kriging(plotting=True, variogram_model='spherical', coordinate_type='Geographic', nlags=nlags)\n",
    "k4.fit(X, y)\n",
    "\n",
    "# Southeast Q3\n",
    "nlags = 40\n",
    "seq3 = sedf[(sedf['Date']>='07/01/1990').values & (sedf['Date']<='09/30/1990').values]\n",
    "valid_scal_3 =  func_select_11(seq3)\n",
    "valid_scal_3 = valid_scal_3.groupby('Site ID').mean()\n",
    "valid_scal_3.drop(columns = ['COUNTY_CODE', 'PERCENT_COMPLETE'], inplace=True)\n",
    "X = valid_scal_3[['SITE_LONGITUDE', 'SITE_LATITUDE']].values\n",
    "y = valid_scal_3['Daily Mean PM10 Concentration']\n",
    "print(\"PM10- VALUES MEAN = \", y.values.mean())\n",
    "X[:, 0] = X[:, 0] + 360\n",
    "k5 = Kriging(plotting=True, variogram_model='spherical', coordinate_type='Geographic', nlags=nlags)\n",
    "k5.fit(X, y)\n"
   ]
  },
  {
   "cell_type": "markdown",
   "id": "6bd43737",
   "metadata": {},
   "source": [
    "### Plotting\n"
   ]
  },
  {
   "cell_type": "markdown",
   "id": "0f666d9c",
   "metadata": {},
   "source": [
    "if str1=='Industrial Midwest' or str1=='Northeast' or str1=='Southeast':\n",
    "    nlags = 40\n",
    "else:\n",
    "    nlags = 17\n",
    "\n",
    "if str1 == \"Northwest\":\n",
    "    xlim = (-10, 1010)\n",
    "    ylim = None\n",
    "if str1 == \"Southern California\":\n",
    "    xlim = (-10, 410)\n",
    "    ylim = None\n",
    "if str1 == \"Industrial Midwest\":\n",
    "    xlim = (-10, 1010)\n",
    "    ylim = None\n",
    "if str1 == \"Northeast\":\n",
    "    xlim = (-10, 1010)\n",
    "    ylim = None\n",
    "if str1 == \"Southeast\":\n",
    "#         pass\n",
    "    xlim = (-10, 1010)\n",
    "    ylim = (-10, 110)\n"
   ]
  },
  {
   "cell_type": "code",
   "execution_count": 60,
   "id": "0d6b9bf8",
   "metadata": {},
   "outputs": [
    {
     "data": {
      "image/png": "[encoded data removed]",
      "text/plain": [
       "<Figure size 239.76x252 with 4 Axes>"
      ]
     },
     "metadata": {
      "needs_background": "light"
     },
     "output_type": "display_data"
    }
   ],
   "source": [
    "latexify(3.33,3.5)\n",
    "title = \"Northwest\"\n",
    "fig, axes = plt.subplots(2,2)\n",
    "axes = axes.ravel()\n",
    "ax = axes[0]\n",
    "\n",
    "ax.scatter(k3.ok.lags * np.pi / 180 * 6371, k3.ok.semivariance, color='black', alpha=0.6, s=2)\n",
    "ax.plot(\n",
    "    k3.ok.lags * np.pi / 180 * 6371,\n",
    "    k3.ok.variogram_function(k3.ok.variogram_model_parameters, k3.ok.lags),\n",
    "    \"k-\", linewidth=1\n",
    ")\n",
    "ax.hlines(k3.ok.variogram_model_parameters[0]+k3.ok.variogram_model_parameters[2], \n",
    "          *ax.get_xlim(), linestyle='--', color='black', linewidth=1)\n",
    "# ax.set_xlabel(\"Separation Distance (km)\")\n",
    "# ax.set_ylabel(\"Semivariance\")\n",
    "ax.set_title(title)\n",
    "ax.set_xlim(-10, 410)\n",
    "ax.set_ylim(-5, 350)\n",
    "ax.tick_params(axis='both')\n",
    "# ax.set_yticklabels(ax.get_yticks(), rotation = 90)\n",
    "for tick in ax.get_yticklabels():\n",
    "    tick.set_rotation(90)\n",
    "\n",
    "ax.set_ylim(None)\n",
    "\n",
    "title = \"Southern California\"\n",
    "ax1 = axes[1]\n",
    "ax1.scatter(k4.ok.lags * np.pi / 180 * 6371, k4.ok.semivariance, color='black', alpha=0.6, s=2)\n",
    "ax1.plot(\n",
    "    k4.ok.lags * np.pi / 180 * 6371,\n",
    "    k4.ok.variogram_function(k4.ok.variogram_model_parameters, k4.ok.lags),\n",
    "    \"k-\", linewidth=1\n",
    ")\n",
    "ax1.hlines(k4.ok.variogram_model_parameters[0]+k4.ok.variogram_model_parameters[2], \n",
    "           *ax1.get_xlim(), linestyle='--', color='black', linewidth=1)\n",
    "# ax1.set_xlabel(\"Separation Distance (km)\")\n",
    "# ax1.set_ylabel(\"Semivariance\")\n",
    "ax1.set_title(title)\n",
    "ax1.set_xlim(-10, 410)\n",
    "ax1.set_ylim(-10, 700)\n",
    "# ax1.set_ylim(None)\n",
    "ax1.tick_params(axis='both')\n",
    "# ax1.set_yticklabels(ax1.get_yticks(), rotation = 90)\n",
    "for tick in ax1.get_yticklabels():\n",
    "    tick.set_rotation(90)\n",
    "\n",
    "title = \"Industrial Midwest\"\n",
    "ax2 = axes[2]\n",
    "ax2.scatter(k1.ok.lags * np.pi / 180 * 6371, k1.ok.semivariance, color='black', alpha=0.6, s=2)\n",
    "ax2.plot(\n",
    "    k1.ok.lags * np.pi / 180 * 6371,\n",
    "    k1.ok.variogram_function(k1.ok.variogram_model_parameters, k1.ok.lags),\n",
    "    \"k-\", linewidth=1\n",
    ")\n",
    "ax2.hlines(k1.ok.variogram_model_parameters[0]+k1.ok.variogram_model_parameters[2], \n",
    "           *ax2.get_xlim(), linestyle='--', color='black', linewidth=1)\n",
    "# ax2.set_xlabel(\"Separation Distance (km)\")\n",
    "# ax2.set_ylabel(\"Semivariance\")\n",
    "ax2.set_title(title)\n",
    "ax2.set_xlim(-10, 1010)\n",
    "ax2.set_ylim(-5, 155)\n",
    "ax2.tick_params(axis='both')\n",
    "for tick in ax2.get_yticklabels():\n",
    "    tick.set_rotation(90)\n",
    "\n",
    "title = \"Northeast\"\n",
    "ax3 = axes[3]\n",
    "ax3.scatter(k2.ok.lags * np.pi / 180 * 6371, k2.ok.semivariance, color='black', alpha=0.6, s=2)\n",
    "ax3.plot(\n",
    "    k2.ok.lags * np.pi / 180 * 6371,\n",
    "    k2.ok.variogram_function(k2.ok.variogram_model_parameters, k2.ok.lags),\n",
    "    \"k-\", linewidth=1\n",
    ")\n",
    "ax3.hlines(k2.ok.variogram_model_parameters[0]+k2.ok.variogram_model_parameters[2], \n",
    "           *ax3.get_xlim(), linestyle='--', color='black', linewidth=1)\n",
    "# ax3.set_xlabel(\"Separation Distance (km)\")\n",
    "# ax3.set_ylabel(\"Semivariance\")\n",
    "ax3.set_title(title)\n",
    "ax3.set_xlim(-10, 1010)\n",
    "ax3.set_ylim(-5, 75)\n",
    "ax3.tick_params(axis='both')\n",
    "for tick in ax3.get_yticklabels():\n",
    "    tick.set_rotation(90)\n",
    "\n",
    "# title = \"Southeast\"\n",
    "# ax4 = plt.subplot(gs[14:, 3:8] )\n",
    "# ax4.scatter(k5.ok.lags * np.pi / 180 * 6371, k5.ok.semivariance, color='black', alpha=0.6)\n",
    "# ax4.plot(\n",
    "#     k5.ok.lags * np.pi / 180 * 6371,\n",
    "#     k5.ok.variogram_function(k5.ok.variogram_model_parameters, k5.ok.lags),\n",
    "#     \"k-\",\n",
    "# )\n",
    "# ax4.set_xlabel(\"Separation Distance (km)\")\n",
    "# ax4.set_ylabel(\"Semivariance\")\n",
    "# ax4.set_title(title)\n",
    "# ax4.set_xlim(-10, 2010)\n",
    "# ax4.set_ylim(None)\n",
    "# ax4.tick_params(axis='both')\n",
    "\n",
    "fig.text(0, 0.42, 'Semivariance', rotation=90)\n",
    "fig.text(0.33, 0, 'Separation Distance (km)')\n",
    "\n",
    "fig.tight_layout()\n",
    "plt.subplots_adjust(wspace=0.24)\n",
    "plt.savefig('../../figures/variogram.pdf')"
   ]
  },
  {
   "cell_type": "code",
   "execution_count": 36,
   "id": "56eb008b",
   "metadata": {},
   "outputs": [
    {
     "data": {
      "text/plain": [
       "(69.32680686807555, 72.77970412436392, 253.84700960213613, 474.39670530906375)"
      ]
     },
     "execution_count": 36,
     "metadata": {},
     "output_type": "execute_result"
    }
   ],
   "source": [
    "k1.ok.variogram_model_parameters.sum(),\\\n",
    "k2.ok.variogram_model_parameters.sum(),\\\n",
    "k3.ok.variogram_model_parameters.sum(),\\\n",
    "k4.ok.variogram_model_parameters.sum()"
   ]
  },
  {
   "cell_type": "code",
   "execution_count": 51,
   "id": "2de2ce3d",
   "metadata": {},
   "outputs": [],
   "source": [
    "k1.ok.delta"
   ]
  },
  {
   "cell_type": "code",
   "execution_count": 14,
   "id": "b79b9049",
   "metadata": {},
   "outputs": [
    {
     "name": "stdout",
     "output_type": "stream",
     "text": [
      "Finished in 0.0671048124631246 minutes\n"
     ]
    }
   ],
   "source": [
    "print('Finished in', (time()-init)/60, 'minutes')"
   ]
  }
 ],
 "metadata": {
  "kernelspec": {
   "display_name": "Python 3",
   "language": "python",
   "name": "python3"
  },
  "language_info": {
   "codemirror_mode": {
    "name": "ipython",
    "version": 3
   },
   "file_extension": ".py",
   "mimetype": "text/x-python",
   "name": "python",
   "nbconvert_exporter": "python",
   "pygments_lexer": "ipython3",
   "version": "3.8.8"
  }
 },
 "nbformat": 4,
 "nbformat_minor": 5
}
