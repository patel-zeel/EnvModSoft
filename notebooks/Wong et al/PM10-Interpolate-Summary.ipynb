{
 "cells": [
  {
   "cell_type": "markdown",
   "id": "a42beff3",
   "metadata": {},
   "source": [
    "### Package Imports"
   ]
  },
  {
   "cell_type": "code",
   "execution_count": 1,
   "id": "7891f0ce",
   "metadata": {},
   "outputs": [],
   "source": [
    "from time import time\n",
    "init = time()\n",
    "\n",
    "import pandas as pd\n",
    "import matplotlib.pyplot as plt\n",
    "import numpy as np\n",
    "import sys\n",
    "import geopandas as gpd\n",
    "import warnings\n",
    "warnings.filterwarnings(\"ignore\")"
   ]
  },
  {
   "cell_type": "markdown",
   "id": "d5d44a74",
   "metadata": {},
   "source": [
    "### Data loading and preprocessing"
   ]
  },
  {
   "cell_type": "code",
   "execution_count": 2,
   "id": "f83102c3",
   "metadata": {
    "scrolled": true
   },
   "outputs": [
    {
     "data": {
      "text/html": [
       "<div>\n",
       "<style scoped>\n",
       "    .dataframe tbody tr th:only-of-type {\n",
       "        vertical-align: middle;\n",
       "    }\n",
       "\n",
       "    .dataframe tbody tr th {\n",
       "        vertical-align: top;\n",
       "    }\n",
       "\n",
       "    .dataframe thead th {\n",
       "        text-align: right;\n",
       "    }\n",
       "</style>\n",
       "<table border=\"1\" class=\"dataframe\">\n",
       "  <thead>\n",
       "    <tr style=\"text-align: right;\">\n",
       "      <th></th>\n",
       "      <th>Date</th>\n",
       "      <th>Site ID</th>\n",
       "      <th>Daily Mean PM10 Concentration</th>\n",
       "      <th>PERCENT_COMPLETE</th>\n",
       "      <th>STATE_CODE</th>\n",
       "      <th>STATE</th>\n",
       "      <th>COUNTY_CODE</th>\n",
       "      <th>COUNTY</th>\n",
       "      <th>SITE_LATITUDE</th>\n",
       "      <th>SITE_LONGITUDE</th>\n",
       "    </tr>\n",
       "  </thead>\n",
       "  <tbody>\n",
       "    <tr>\n",
       "      <th>0</th>\n",
       "      <td>01/11/1990</td>\n",
       "      <td>120111003</td>\n",
       "      <td>45</td>\n",
       "      <td>100.0</td>\n",
       "      <td>12</td>\n",
       "      <td>Florida</td>\n",
       "      <td>11</td>\n",
       "      <td>Broward</td>\n",
       "      <td>26.129531</td>\n",
       "      <td>-80.168379</td>\n",
       "    </tr>\n",
       "    <tr>\n",
       "      <th>1</th>\n",
       "      <td>01/17/1990</td>\n",
       "      <td>120111003</td>\n",
       "      <td>21</td>\n",
       "      <td>100.0</td>\n",
       "      <td>12</td>\n",
       "      <td>Florida</td>\n",
       "      <td>11</td>\n",
       "      <td>Broward</td>\n",
       "      <td>26.129531</td>\n",
       "      <td>-80.168379</td>\n",
       "    </tr>\n",
       "  </tbody>\n",
       "</table>\n",
       "</div>"
      ],
      "text/plain": [
       "         Date    Site ID  Daily Mean PM10 Concentration  PERCENT_COMPLETE  \\\n",
       "0  01/11/1990  120111003                             45             100.0   \n",
       "1  01/17/1990  120111003                             21             100.0   \n",
       "\n",
       "   STATE_CODE    STATE  COUNTY_CODE   COUNTY  SITE_LATITUDE  SITE_LONGITUDE  \n",
       "0          12  Florida           11  Broward      26.129531      -80.168379  \n",
       "1          12  Florida           11  Broward      26.129531      -80.168379  "
      ]
     },
     "execution_count": 2,
     "metadata": {},
     "output_type": "execute_result"
    }
   ],
   "source": [
    "df = pd.read_csv(\"../../data/pm.csv.gz\")\n",
    "df = df[['Date', 'Site ID', 'Daily Mean PM10 Concentration', 'PERCENT_COMPLETE', 'STATE_CODE', 'STATE', 'COUNTY_CODE', \n",
    "         'COUNTY', 'SITE_LATITUDE', 'SITE_LONGITUDE']]\n",
    "df = df[df['STATE']!='Hawaii']\n",
    "df = df[df['STATE']!='Alaska']\n",
    "df = df[df['STATE']!='New Mexico']\n",
    "\n",
    "t1 = df[(df['SITE_LONGITUDE'] < -104.01) | (df['SITE_LONGITUDE']>-99.42)]\n",
    "\n",
    "t1.head(2)"
   ]
  },
  {
   "cell_type": "markdown",
   "id": "6322e4f3",
   "metadata": {},
   "source": [
    "### DataFrame to store results"
   ]
  },
  {
   "cell_type": "code",
   "execution_count": 3,
   "id": "e617f29f",
   "metadata": {},
   "outputs": [],
   "source": [
    "res_df = pd.DataFrame(columns=[ 'mean', '25%', '50%', '75%'])"
   ]
  },
  {
   "cell_type": "markdown",
   "id": "39f3cb0a",
   "metadata": {},
   "source": [
    "### Result: Monitored Anually average PM10"
   ]
  },
  {
   "cell_type": "code",
   "execution_count": 4,
   "id": "c23f9c34",
   "metadata": {},
   "outputs": [],
   "source": [
    "def summary_stats(x):\n",
    "    return x.mean(), np.percentile(x, 25), np.percentile(x, 50), np.percentile(x, 75)"
   ]
  },
  {
   "cell_type": "code",
   "execution_count": 5,
   "id": "de67eeb2",
   "metadata": {},
   "outputs": [
    {
     "data": {
      "text/html": [
       "<div>\n",
       "<style scoped>\n",
       "    .dataframe tbody tr th:only-of-type {\n",
       "        vertical-align: middle;\n",
       "    }\n",
       "\n",
       "    .dataframe tbody tr th {\n",
       "        vertical-align: top;\n",
       "    }\n",
       "\n",
       "    .dataframe thead th {\n",
       "        text-align: right;\n",
       "    }\n",
       "</style>\n",
       "<table border=\"1\" class=\"dataframe\">\n",
       "  <thead>\n",
       "    <tr style=\"text-align: right;\">\n",
       "      <th></th>\n",
       "      <th>mean</th>\n",
       "      <th>25%</th>\n",
       "      <th>50%</th>\n",
       "      <th>75%</th>\n",
       "    </tr>\n",
       "  </thead>\n",
       "  <tbody>\n",
       "    <tr>\n",
       "      <th>AA_Mon</th>\n",
       "      <td>28.943658</td>\n",
       "      <td>22.391667</td>\n",
       "      <td>27.299806</td>\n",
       "      <td>33.634208</td>\n",
       "    </tr>\n",
       "  </tbody>\n",
       "</table>\n",
       "</div>"
      ],
      "text/plain": [
       "             mean        25%        50%        75%\n",
       "AA_Mon  28.943658  22.391667  27.299806  33.634208"
      ]
     },
     "execution_count": 5,
     "metadata": {},
     "output_type": "execute_result"
    }
   ],
   "source": [
    "ann_df = t1.groupby('Site ID').mean().reset_index()\n",
    "res_df.loc['AA_Mon', :] = summary_stats(ann_df['Daily Mean PM10 Concentration'].values)\n",
    "res_df"
   ]
  },
  {
   "cell_type": "markdown",
   "id": "1fed6f3b",
   "metadata": {},
   "source": [
    "### Define data for interpolation"
   ]
  },
  {
   "cell_type": "code",
   "execution_count": 6,
   "id": "c0cf331c",
   "metadata": {},
   "outputs": [],
   "source": [
    "X = ann_df[['SITE_LONGITUDE', 'SITE_LATITUDE']].values\n",
    "y = ann_df[['Daily Mean PM10 Concentration']].values.ravel()"
   ]
  },
  {
   "cell_type": "markdown",
   "id": "f3cde4a9",
   "metadata": {},
   "source": [
    "### Spatial Interpolation"
   ]
  },
  {
   "cell_type": "code",
   "execution_count": 7,
   "id": "ce5f58c2",
   "metadata": {},
   "outputs": [
    {
     "data": {
      "text/plain": [
       "SpatialAverage"
      ]
     },
     "execution_count": 7,
     "metadata": {},
     "output_type": "execute_result"
    }
   ],
   "source": [
    "from polire import SpatialAverage\n",
    "spatial = SpatialAverage(coordinate_type='Geographic', radius=16.1)\n",
    "spatial.fit(X, y)"
   ]
  },
  {
   "cell_type": "code",
   "execution_count": 8,
   "id": "defcdc89",
   "metadata": {},
   "outputs": [],
   "source": [
    "centroids = np.load(\"../../data/block_groups/usa_centroids.npy\")\n",
    "\n",
    "spatial_predictions = spatial.predict(centroids)\n",
    "spatial_predictions = spatial_predictions[~np.isnan(spatial_predictions)]"
   ]
  },
  {
   "cell_type": "code",
   "execution_count": 9,
   "id": "131f0566",
   "metadata": {},
   "outputs": [
    {
     "data": {
      "text/html": [
       "<div>\n",
       "<style scoped>\n",
       "    .dataframe tbody tr th:only-of-type {\n",
       "        vertical-align: middle;\n",
       "    }\n",
       "\n",
       "    .dataframe tbody tr th {\n",
       "        vertical-align: top;\n",
       "    }\n",
       "\n",
       "    .dataframe thead th {\n",
       "        text-align: right;\n",
       "    }\n",
       "</style>\n",
       "<table border=\"1\" class=\"dataframe\">\n",
       "  <thead>\n",
       "    <tr style=\"text-align: right;\">\n",
       "      <th></th>\n",
       "      <th>mean</th>\n",
       "      <th>25%</th>\n",
       "      <th>50%</th>\n",
       "      <th>75%</th>\n",
       "    </tr>\n",
       "  </thead>\n",
       "  <tbody>\n",
       "    <tr>\n",
       "      <th>AA_Mon</th>\n",
       "      <td>28.943658</td>\n",
       "      <td>22.391667</td>\n",
       "      <td>27.299806</td>\n",
       "      <td>33.634208</td>\n",
       "    </tr>\n",
       "    <tr>\n",
       "      <th>AA_SA</th>\n",
       "      <td>31.944817</td>\n",
       "      <td>25.833431</td>\n",
       "      <td>30.178879</td>\n",
       "      <td>34.733065</td>\n",
       "    </tr>\n",
       "  </tbody>\n",
       "</table>\n",
       "</div>"
      ],
      "text/plain": [
       "             mean        25%        50%        75%\n",
       "AA_Mon  28.943658  22.391667  27.299806  33.634208\n",
       "AA_SA   31.944817  25.833431  30.178879  34.733065"
      ]
     },
     "execution_count": 9,
     "metadata": {},
     "output_type": "execute_result"
    }
   ],
   "source": [
    "res_df.loc['AA_SA', :] = summary_stats(spatial_predictions)\n",
    "res_df"
   ]
  },
  {
   "cell_type": "markdown",
   "id": "44e722a1",
   "metadata": {},
   "source": [
    "### IDW"
   ]
  },
  {
   "cell_type": "code",
   "execution_count": 10,
   "id": "c784bb20",
   "metadata": {},
   "outputs": [],
   "source": [
    "from polire import IDW\n",
    "from polire.utils.distance import haversine, euclidean\n",
    "\n",
    "idw = IDW(coordinate_type='Geographic')\n",
    "idw.fit(X, y)\n",
    "\n",
    "idw_predictions = idw.predict(centroids)"
   ]
  },
  {
   "cell_type": "code",
   "execution_count": 11,
   "id": "e5cc21db",
   "metadata": {},
   "outputs": [
    {
     "data": {
      "text/html": [
       "<div>\n",
       "<style scoped>\n",
       "    .dataframe tbody tr th:only-of-type {\n",
       "        vertical-align: middle;\n",
       "    }\n",
       "\n",
       "    .dataframe tbody tr th {\n",
       "        vertical-align: top;\n",
       "    }\n",
       "\n",
       "    .dataframe thead th {\n",
       "        text-align: right;\n",
       "    }\n",
       "</style>\n",
       "<table border=\"1\" class=\"dataframe\">\n",
       "  <thead>\n",
       "    <tr style=\"text-align: right;\">\n",
       "      <th></th>\n",
       "      <th>mean</th>\n",
       "      <th>25%</th>\n",
       "      <th>50%</th>\n",
       "      <th>75%</th>\n",
       "    </tr>\n",
       "  </thead>\n",
       "  <tbody>\n",
       "    <tr>\n",
       "      <th>AA_Mon</th>\n",
       "      <td>28.943658</td>\n",
       "      <td>22.391667</td>\n",
       "      <td>27.299806</td>\n",
       "      <td>33.634208</td>\n",
       "    </tr>\n",
       "    <tr>\n",
       "      <th>AA_SA</th>\n",
       "      <td>31.944817</td>\n",
       "      <td>25.833431</td>\n",
       "      <td>30.178879</td>\n",
       "      <td>34.733065</td>\n",
       "    </tr>\n",
       "    <tr>\n",
       "      <th>AA_IDW</th>\n",
       "      <td>30.818663</td>\n",
       "      <td>26.915439</td>\n",
       "      <td>29.427778</td>\n",
       "      <td>32.42217</td>\n",
       "    </tr>\n",
       "  </tbody>\n",
       "</table>\n",
       "</div>"
      ],
      "text/plain": [
       "             mean        25%        50%        75%\n",
       "AA_Mon  28.943658  22.391667  27.299806  33.634208\n",
       "AA_SA   31.944817  25.833431  30.178879  34.733065\n",
       "AA_IDW  30.818663  26.915439  29.427778   32.42217"
      ]
     },
     "execution_count": 11,
     "metadata": {},
     "output_type": "execute_result"
    }
   ],
   "source": [
    "res_df.loc['AA_IDW', :] = summary_stats(idw_predictions)\n",
    "res_df"
   ]
  },
  {
   "cell_type": "markdown",
   "id": "1f9b14f4",
   "metadata": {},
   "source": [
    "# $k$-NN\n"
   ]
  },
  {
   "cell_type": "code",
   "execution_count": 12,
   "id": "eeacd103",
   "metadata": {},
   "outputs": [],
   "source": [
    "from polire import CustomInterpolator\n",
    "from sklearn.neighbors import KNeighborsRegressor\n",
    "knn = CustomInterpolator(KNeighborsRegressor(n_neighbors=1))\n",
    "knn.fit(X, y)\n",
    "knn_predictions = knn.predict(centroids)"
   ]
  },
  {
   "cell_type": "code",
   "execution_count": 13,
   "id": "4f79977f",
   "metadata": {},
   "outputs": [
    {
     "data": {
      "text/html": [
       "<div>\n",
       "<style scoped>\n",
       "    .dataframe tbody tr th:only-of-type {\n",
       "        vertical-align: middle;\n",
       "    }\n",
       "\n",
       "    .dataframe tbody tr th {\n",
       "        vertical-align: top;\n",
       "    }\n",
       "\n",
       "    .dataframe thead th {\n",
       "        text-align: right;\n",
       "    }\n",
       "</style>\n",
       "<table border=\"1\" class=\"dataframe\">\n",
       "  <thead>\n",
       "    <tr style=\"text-align: right;\">\n",
       "      <th></th>\n",
       "      <th>mean</th>\n",
       "      <th>25%</th>\n",
       "      <th>50%</th>\n",
       "      <th>75%</th>\n",
       "    </tr>\n",
       "  </thead>\n",
       "  <tbody>\n",
       "    <tr>\n",
       "      <th>AA_Mon</th>\n",
       "      <td>28.943658</td>\n",
       "      <td>22.391667</td>\n",
       "      <td>27.299806</td>\n",
       "      <td>33.634208</td>\n",
       "    </tr>\n",
       "    <tr>\n",
       "      <th>AA_SA</th>\n",
       "      <td>31.944817</td>\n",
       "      <td>25.833431</td>\n",
       "      <td>30.178879</td>\n",
       "      <td>34.733065</td>\n",
       "    </tr>\n",
       "    <tr>\n",
       "      <th>AA_IDW</th>\n",
       "      <td>30.818663</td>\n",
       "      <td>26.915439</td>\n",
       "      <td>29.427778</td>\n",
       "      <td>32.42217</td>\n",
       "    </tr>\n",
       "    <tr>\n",
       "      <th>AA_KNN</th>\n",
       "      <td>30.337855</td>\n",
       "      <td>24.508772</td>\n",
       "      <td>28.27451</td>\n",
       "      <td>34.074074</td>\n",
       "    </tr>\n",
       "  </tbody>\n",
       "</table>\n",
       "</div>"
      ],
      "text/plain": [
       "             mean        25%        50%        75%\n",
       "AA_Mon  28.943658  22.391667  27.299806  33.634208\n",
       "AA_SA   31.944817  25.833431  30.178879  34.733065\n",
       "AA_IDW  30.818663  26.915439  29.427778   32.42217\n",
       "AA_KNN  30.337855  24.508772   28.27451  34.074074"
      ]
     },
     "execution_count": 13,
     "metadata": {},
     "output_type": "execute_result"
    }
   ],
   "source": [
    "res_df.loc['AA_KNN', :] = summary_stats(knn_predictions)\n",
    "res_df"
   ]
  },
  {
   "cell_type": "markdown",
   "id": "44b35ca1",
   "metadata": {},
   "source": [
    "### DATA VALIDATION"
   ]
  },
  {
   "cell_type": "code",
   "execution_count": 14,
   "id": "3e06c5bc",
   "metadata": {},
   "outputs": [],
   "source": [
    "def func_select_11(df):\n",
    "    t = df.groupby(['Date', 'Site ID', 'STATE', 'COUNTY_CODE','COUNTY']).mean()\n",
    "    t = t.reset_index(None)\n",
    "    t1 = t.groupby('Site ID').count()\n",
    "    t11 = t.set_index(['Site ID'])\n",
    "    t11 = t11[t1['Date']>11]\n",
    "    t11 = t11.reset_index(None)\n",
    "    return t11"
   ]
  },
  {
   "cell_type": "markdown",
   "id": "62f9b9ba",
   "metadata": {},
   "source": [
    "### Creating region-wise dataframes"
   ]
  },
  {
   "cell_type": "code",
   "execution_count": 15,
   "id": "dbe4c5a8",
   "metadata": {},
   "outputs": [],
   "source": [
    "# North West\n",
    "nw = ['Washington', 'Oregon', 'Wyoming','Idaho', 'Montana', 'Colorado','Utah','Nevada']\n",
    "# South California\n",
    "sc = ['California']\n",
    "# Mid West\n",
    "mw = ['West Virginia', 'Illinois', 'Indiana', 'Iowa', 'Kansas', 'Michigan', 'Minnesota', \n",
    "      'Missouri', 'Nebraska', 'North Dakota', 'Ohio', 'South Dakota', 'Wisconsin'] \n",
    "# South East\n",
    "se = ['Oklahoma','Florida', 'Alabama', 'Georgia',  'Tennessee', 'South Carolina', 'North Carolina', \n",
    "      'Virginia', 'Louisiana', 'Arkansas', 'Texas', 'Kentucky']\n",
    "# North East\n",
    "ne = ['Connecticut', 'Delaware', 'Maine', 'Maryland', 'Massachusetts', 'New Hampshire', 'New Jersey', \n",
    "      'New York', 'Pennsylvania', 'Rhode Island', 'Vermont','District Of Columbia']\n",
    "\n",
    "nwdf = t1[np.isin(t1['STATE'], nw)]\n",
    "mwdf = t1[np.isin(t1['STATE'], mw)]\n",
    "sedf = t1[np.isin(t1['STATE'], se)]\n",
    "nedf = t1[np.isin(t1['STATE'], ne)]\n",
    "cal = t1[np.isin(t1['STATE'], ['California'])]\n",
    "ncal = cal[cal['SITE_LATITUDE']>=34.81]\n",
    "scal = cal[cal['SITE_LATITUDE']<34.81]\n",
    "# nwdf = pd.concat([nwdf, t1[t1[np.isin(t1['STATE'], ['California'])]]['SITE_LATITUDE']>34.81])\n",
    "\n",
    "nwdf = pd.concat([nwdf, ncal])"
   ]
  },
  {
   "cell_type": "markdown",
   "id": "29285723",
   "metadata": {},
   "source": [
    "### Define quarterly dataframes "
   ]
  },
  {
   "cell_type": "code",
   "execution_count": 16,
   "id": "bcc4e5d4",
   "metadata": {},
   "outputs": [],
   "source": [
    "mwq1 = mwdf[mwdf['Date']<='03/31/1990']\n",
    "mwq2 = mwdf[(mwdf['Date']>='04/01/1990').values & (mwdf['Date']<='06/30/1990').values]\n",
    "mwq3 = mwdf[(mwdf['Date']>='07/01/1990').values & (mwdf['Date']<='09/30/1990').values]\n",
    "mwq4 = mwdf[(mwdf['Date']>='10/01/1990').values & (mwdf['Date']<='12/31/1990').values]"
   ]
  },
  {
   "cell_type": "markdown",
   "id": "e6af37f9",
   "metadata": {},
   "source": [
    "### Q1, Q2, Q3, Q4"
   ]
  },
  {
   "cell_type": "code",
   "execution_count": 17,
   "id": "38a6fbf3",
   "metadata": {},
   "outputs": [
    {
     "name": "stdout",
     "output_type": "stream",
     "text": [
      "Running Q1\n",
      "Running Q2\n",
      "Running Q3\n",
      "Running Q4\n"
     ]
    }
   ],
   "source": [
    "def get_Xy(t):\n",
    "    q = func_select_11(t)\n",
    "    q.drop(columns=['STATE', 'COUNTY_CODE', 'COUNTY', 'PERCENT_COMPLETE'], inplace=True)\n",
    "    q = q.groupby('Site ID').mean()\n",
    "    X = q[['SITE_LONGITUDE', 'SITE_LATITUDE']].values\n",
    "    y = q[['Daily Mean PM10 Concentration']].values\n",
    "    return X, y.ravel()\n",
    "\n",
    "t_list = [t1[t1['Date']<='03/31/1990'], \n",
    "          t1[(t1['Date']>='04/01/1990') & (t1['Date']<='06/30/1990')],\n",
    "          t1[(t1['Date']>='07/01/1990') & (t1['Date']<='09/30/1990')],\n",
    "          t1[(t1['Date']>='10/01/1990')]]\n",
    "Q_list = ['Q1', 'Q2', 'Q3', 'Q4']\n",
    "          \n",
    "for qi, t in enumerate(t_list):\n",
    "    print('Running',Q_list[qi])\n",
    "    X, y = get_Xy(t)\n",
    "    \n",
    "    # Station data\n",
    "    res_df.loc[Q_list[qi]+'_Mon', :] = summary_stats(y)\n",
    "    \n",
    "    ## Spatial Averaging\n",
    "    from polire import SpatialAverage\n",
    "    spatial = SpatialAverage(coordinate_type='Geographic', radius=16.1)\n",
    "    spatial.fit(X, y)\n",
    "    \n",
    "    spatial_predictions = spatial.predict(centroids)\n",
    "    spatial_predictions = spatial_predictions[~np.isnan(spatial_predictions)]\n",
    "    res_df.loc[Q_list[qi]+'_SA', :] = summary_stats(spatial_predictions)\n",
    "    \n",
    "    ## IDW\n",
    "    from polire import IDW\n",
    "    idw = IDW(coordinate_type='Geographic')\n",
    "    idw.fit(X, y)\n",
    "    idw_predictions = idw.predict(centroids)\n",
    "    res_df.loc[Q_list[qi]+'_IDW', :] = summary_stats(idw_predictions)\n",
    "    \n",
    "    ## KNN\n",
    "    from polire import CustomInterpolator\n",
    "    from sklearn.neighbors import KNeighborsRegressor\n",
    "    knn = CustomInterpolator(KNeighborsRegressor(n_neighbors=1))\n",
    "    knn.fit(X, y)\n",
    "    knn_predictions = knn.predict(centroids)\n",
    "    res_df.loc[Q_list[qi]+'_KNN', :] = summary_stats(knn_predictions)"
   ]
  },
  {
   "cell_type": "markdown",
   "id": "df1b944a",
   "metadata": {},
   "source": [
    "### Kriging is done region wise. "
   ]
  },
  {
   "cell_type": "markdown",
   "id": "96506889",
   "metadata": {},
   "source": [
    "### Q1, Q2, Q3, Q4"
   ]
  },
  {
   "cell_type": "code",
   "execution_count": 18,
   "id": "df300fde",
   "metadata": {},
   "outputs": [],
   "source": [
    "def make_gdf(df, gdf):\n",
    "    states = df['STATE_CODE'].unique()\n",
    "    tgdf = gdf[gdf['STATE_FIPS'].isin([resize(x) for x in states])]\n",
    "    return tgdf\n",
    "\n",
    "def get_centroids(gdf):\n",
    "    shapes = gdf['geometry'].unique()\n",
    "    centroids = [shapes[i].centroid.wkt for i in range(len(shapes))]\n",
    "    centroids = [centroids[i].split(' ')[1:] for i in range(len(centroids))]\n",
    "    centroids = [[np.float64(centroids[i][0][1:]), np.float64(centroids[i][1][:-1])] for i in range(len(centroids))]\n",
    "    centroids = np.array(centroids)\n",
    "    return centroids\n",
    "\n",
    "def resize(x):\n",
    "    if len(str(x))==1:\n",
    "        return '0'+str(x)\n",
    "    else:\n",
    "        return str(x)"
   ]
  },
  {
   "cell_type": "code",
   "execution_count": 19,
   "id": "1842c22b",
   "metadata": {},
   "outputs": [],
   "source": [
    "def krig_interpolate(df, quarter, centroids, nlags):\n",
    "    \n",
    "    if quarter == 1:\n",
    "        df = df[df['Date']<='03/31/1990']\n",
    "    elif quarter == 2:\n",
    "        df = df[(df['Date']>='04/01/1990').values & (df['Date']<='06/30/1990').values]\n",
    "    elif quarter == 3:\n",
    "        df = df[(df['Date']>='07/01/1990').values & (df['Date']<='09/30/1990').values]\n",
    "    else:\n",
    "        df = df[(df['Date']>='10/01/1990').values ]\n",
    "        \n",
    "        \n",
    "    df = func_select_11(df)\n",
    "    df.drop(columns=['STATE', 'COUNTY_CODE', 'COUNTY', 'PERCENT_COMPLETE'], inplace=True)\n",
    "    df = df.groupby('Site ID').mean()\n",
    "    X = df[['SITE_LONGITUDE', 'SITE_LATITUDE']].values\n",
    "    y = df[['Daily Mean PM10 Concentration']].values.ravel()\n",
    "    \n",
    "    X_krig = X.copy()\n",
    "    X_test_krig = centroids.copy()\n",
    "    X_krig[:, 0] = X_krig[:, 0] + 360\n",
    "    krig = Kriging(variogram_model='spherical', coordinate_type='Geographic', nlags = nlags)\n",
    "    krig.fit(X_krig, y)\n",
    "    krig_predictions = np.array(krig.predict(centroids))\n",
    "    \n",
    "    return krig_predictions\n"
   ]
  },
  {
   "cell_type": "code",
   "execution_count": 20,
   "id": "be5af926",
   "metadata": {},
   "outputs": [],
   "source": [
    "import geopandas as gpd\n",
    "gdf = gpd.read_file(\"../../data/block_groups/USA_Block_Groups.shp\")"
   ]
  },
  {
   "cell_type": "code",
   "execution_count": 21,
   "id": "907b8298",
   "metadata": {},
   "outputs": [],
   "source": [
    "ne_gdf = make_gdf(nedf, gdf)\n",
    "ne_centroids = get_centroids(ne_gdf)\n",
    "\n",
    "nw_gdf = make_gdf(nwdf, gdf)\n",
    "nw_centroids = get_centroids(nw_gdf)\n",
    "nw_centroids = nw_centroids[nw_centroids[:, 1]>=34.81]\n",
    "\n",
    "se_gdf = make_gdf(sedf, gdf)\n",
    "se_centroids = get_centroids(se_gdf)\n",
    "\n",
    "socal_gdf = make_gdf(scal, gdf)\n",
    "socal_centroids = get_centroids(socal_gdf)\n",
    "socal_centroids = socal_centroids[socal_centroids[:, 1]<=34.81]\n",
    "\n",
    "mw_gdf = make_gdf(mwdf, gdf)\n",
    "mw_centroids = get_centroids(mw_gdf)"
   ]
  },
  {
   "cell_type": "code",
   "execution_count": 22,
   "id": "a0082a81",
   "metadata": {},
   "outputs": [
    {
     "name": "stdout",
     "output_type": "stream",
     "text": [
      "Q1\n",
      "Q2\n",
      "Q3\n",
      "Q4\n"
     ]
    }
   ],
   "source": [
    "from polire import Kriging\n",
    "\n",
    "for qi in range(1,4+1):\n",
    "    print(Q_list[qi-1])\n",
    "    ne_q = krig_interpolate(nedf, qi, ne_centroids, nlags = 40)\n",
    "    nw_q = krig_interpolate(nwdf, qi, nw_centroids, nlags = 17)\n",
    "    se_q = krig_interpolate(sedf, qi, se_centroids, nlags = 40)\n",
    "    socal_q = krig_interpolate(scal, qi, socal_centroids, nlags = 17)\n",
    "    mw_q = krig_interpolate(mwdf, qi, mw_centroids, nlags = 40)\n",
    "    \n",
    "    usa_kriging_final_q = np.concatenate([np.array(ne_q), np.array(nw_q), np.array(se_q), np.array(socal_q), np.array(mw_q)])\n",
    "    \n",
    "    res_df.loc[Q_list[qi-1]+'_Krig', :] = summary_stats(usa_kriging_final_q)"
   ]
  },
  {
   "cell_type": "markdown",
   "id": "1d9b602a",
   "metadata": {},
   "source": [
    "# Annual"
   ]
  },
  {
   "cell_type": "code",
   "execution_count": 23,
   "id": "86d6ffae",
   "metadata": {},
   "outputs": [],
   "source": [
    "def compute_krig(df, centroids, nlags):\n",
    "    annual = df.copy()\n",
    "    annual = annual.groupby('Site ID').mean()\n",
    "    annual.drop(columns = ['COUNTY_CODE', 'PERCENT_COMPLETE'], inplace =True)\n",
    "    X = annual[['SITE_LONGITUDE', 'SITE_LATITUDE']].values\n",
    "    y = annual[['Daily Mean PM10 Concentration']].values.ravel()\n",
    "    X[:, 0] = X[:, 0] + 360\n",
    "    k = Kriging(variogram_model='spherical', coordinate_type='Geographic', nlags=nlags)\n",
    "    k.fit(X, y)\n",
    "    krig_predicted = k.predict(centroids)\n",
    "    return krig_predicted"
   ]
  },
  {
   "cell_type": "code",
   "execution_count": 24,
   "id": "eef2a1a8",
   "metadata": {},
   "outputs": [],
   "source": [
    "ne_krig = compute_krig(nedf, ne_centroids, nlags = 40)\n",
    "nw_krig = compute_krig(nwdf, nw_centroids, nlags = 17)\n",
    "se_krig = compute_krig(sedf, se_centroids, nlags = 40)\n",
    "socal_krig = compute_krig(scal, socal_centroids, nlags = 17)\n",
    "mw_krig = compute_krig(mwdf, mw_centroids, nlags = 40)\n",
    "\n",
    "usa_kriging_final = np.concatenate([np.array(ne_krig), np.array(nw_krig), np.array(se_krig), np.array(socal_krig), np.array(mw_krig)])\n",
    "\n",
    "res_df.loc['AA_Krig', :] = summary_stats(usa_kriging_final)"
   ]
  },
  {
   "cell_type": "markdown",
   "id": "c515bf64",
   "metadata": {},
   "source": [
    "## Final result"
   ]
  },
  {
   "cell_type": "code",
   "execution_count": 25,
   "id": "73a6ecc5",
   "metadata": {},
   "outputs": [
    {
     "name": "stdout",
     "output_type": "stream",
     "text": [
      "|         |    mean |     25% |     50% |     75% |\n",
      "|:--------|--------:|--------:|--------:|--------:|\n",
      "| AA_Mon  | 28.9437 | 22.3917 | 27.2998 | 33.6342 |\n",
      "| AA_SA   | 31.9448 | 25.8334 | 30.1789 | 34.7331 |\n",
      "| AA_IDW  | 30.8187 | 26.9154 | 29.4278 | 32.4222 |\n",
      "| AA_KNN  | 30.3379 | 24.5088 | 28.2745 | 34.0741 |\n",
      "| Q1_Mon  | 27.4402 | 20.0667 | 25.3786 | 32.6231 |\n",
      "| Q1_SA   | 30.635  | 23.7462 | 28.9365 | 34.25   |\n",
      "| Q1_IDW  | 28.8243 | 24.2218 | 26.7869 | 31.0557 |\n",
      "| Q1_KNN  | 28.4217 | 21.3333 | 26.0667 | 32.6    |\n",
      "| Q2_Mon  | 26.0074 | 20      | 24.7238 | 30.5333 |\n",
      "| Q2_SA   | 28.5194 | 23.0333 | 27.2667 | 32.9254 |\n",
      "| Q2_IDW  | 27.8907 | 24.2632 | 27.1835 | 30.0498 |\n",
      "| Q2_KNN  | 27.2738 | 21.7333 | 25.8    | 30.4545 |\n",
      "| Q3_Mon  | 33.5649 | 25.6381 | 33.1875 | 40.4308 |\n",
      "| Q3_SA   | 36.3301 | 30.1429 | 36      | 40.9667 |\n",
      "| Q3_IDW  | 36.026  | 31.208  | 35.5538 | 40.4061 |\n",
      "| Q3_KNN  | 35.5575 | 28.9333 | 34.6    | 40.7333 |\n",
      "| Q4_Mon  | 28.5522 | 20.0625 | 25.9231 | 32.7692 |\n",
      "| Q4_SA   | 32.6854 | 23.6507 | 28.1292 | 35.9375 |\n",
      "| Q4_IDW  | 30.6454 | 24.8362 | 27.3344 | 31.1046 |\n",
      "| Q4_KNN  | 30.2956 | 21.6923 | 27      | 34.1538 |\n",
      "| Q1_Krig | 28.1821 | 23.8379 | 26.6962 | 29.4044 |\n",
      "| Q2_Krig | 27.1479 | 24.07   | 26.9527 | 28.9563 |\n",
      "| Q3_Krig | 35.4796 | 30.1716 | 34.6474 | 40.7674 |\n",
      "| Q4_Krig | 29.5199 | 25.4393 | 26.9795 | 28.8619 |\n",
      "| AA_Krig | 30.0073 | 26.3522 | 29.4748 | 31.5127 |\n"
     ]
    }
   ],
   "source": [
    "print(res_df.to_markdown())"
   ]
  },
  {
   "cell_type": "code",
   "execution_count": 26,
   "id": "f6866c94",
   "metadata": {},
   "outputs": [
    {
     "name": "stdout",
     "output_type": "stream",
     "text": [
      "Done in 5.478180766105652 minutes\n"
     ]
    }
   ],
   "source": [
    "print('Done in',(time()-init)/60,'minutes')"
   ]
  }
 ],
 "metadata": {
  "kernelspec": {
   "display_name": "Python 3",
   "language": "python",
   "name": "python3"
  },
  "language_info": {
   "codemirror_mode": {
    "name": "ipython",
    "version": 3
   },
   "file_extension": ".py",
   "mimetype": "text/x-python",
   "name": "python",
   "nbconvert_exporter": "python",
   "pygments_lexer": "ipython3",
   "version": "3.8.8"
  }
 },
 "nbformat": 4,
 "nbformat_minor": 5
}
