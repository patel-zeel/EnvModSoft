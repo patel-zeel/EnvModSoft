{
 "cells": [
  {
   "cell_type": "code",
   "execution_count": 1,
   "id": "531a3f8f",
   "metadata": {},
   "outputs": [],
   "source": [
    "import pandas as pd\n",
    "import numpy as np\n",
    "import sys\n",
    "import warnings\n",
    "warnings.filterwarnings('ignore')"
   ]
  },
  {
   "cell_type": "code",
   "execution_count": 2,
   "id": "172880cb",
   "metadata": {},
   "outputs": [],
   "source": [
    "california_ozone = pd.read_csv(\"../../data/cal_o3.csv.gz\", index_col = None)"
   ]
  },
  {
   "cell_type": "code",
   "execution_count": 3,
   "id": "3eb62b8f",
   "metadata": {},
   "outputs": [],
   "source": [
    "cadf = california_ozone\n",
    "cadf = cadf[cadf['Time Local'] <= '18:00']\n",
    "cadf = cadf[cadf['Time Local'] >= '10:00']"
   ]
  },
  {
   "cell_type": "code",
   "execution_count": 4,
   "id": "e3282487",
   "metadata": {},
   "outputs": [],
   "source": [
    "county_codes = cadf['County Code'].values\n",
    "site_code = cadf['Site Num'].values\n",
    "site_id = [str(county_codes[i]) + str(site_code[i]) for i in range(len(county_codes))]"
   ]
  },
  {
   "cell_type": "code",
   "execution_count": 5,
   "id": "75c8b757",
   "metadata": {},
   "outputs": [],
   "source": [
    "cadf['ID'] = site_id"
   ]
  },
  {
   "cell_type": "code",
   "execution_count": 6,
   "id": "7be29b28",
   "metadata": {},
   "outputs": [
    {
     "data": {
      "text/plain": [
       "Index(['State Code', 'County Code', 'Site Num', 'Parameter Code', 'POC',\n",
       "       'Latitude', 'Longitude', 'Datum', 'Parameter Name', 'Date Local',\n",
       "       'Time Local', 'Date GMT', 'Time GMT', 'Sample Measurement',\n",
       "       'Units of Measure', 'MDL', 'Uncertainty', 'Qualifier', 'Method Type',\n",
       "       'Method Code', 'Method Name', 'State Name', 'County Name',\n",
       "       'Date of Last Change', 'ID'],\n",
       "      dtype='object')"
      ]
     },
     "execution_count": 6,
     "metadata": {},
     "output_type": "execute_result"
    }
   ],
   "source": [
    "cadf.columns"
   ]
  },
  {
   "cell_type": "code",
   "execution_count": 7,
   "id": "f4e6e297",
   "metadata": {},
   "outputs": [],
   "source": [
    "mask = cadf.groupby(['ID', 'Date Local'])['Sample Measurement'].count() >= 8"
   ]
  },
  {
   "cell_type": "code",
   "execution_count": 8,
   "id": "9741def0",
   "metadata": {},
   "outputs": [],
   "source": [
    "cadf = cadf.groupby(['ID', 'Date Local']).mean()[mask]"
   ]
  },
  {
   "cell_type": "code",
   "execution_count": 9,
   "id": "dea277c8",
   "metadata": {},
   "outputs": [],
   "source": [
    "cadf.reset_index(inplace=True)"
   ]
  },
  {
   "cell_type": "code",
   "execution_count": 10,
   "id": "203a76b6",
   "metadata": {},
   "outputs": [],
   "source": [
    "cadf = cadf[['ID', 'Date Local', 'Latitude', 'Longitude', 'Sample Measurement']]"
   ]
  },
  {
   "cell_type": "code",
   "execution_count": 11,
   "id": "2b5ac28a",
   "metadata": {},
   "outputs": [],
   "source": [
    "m1 = cadf['Date Local'] >= '1990-05-01'\n",
    "m2 = cadf['Date Local'] <= '1990-09-30'\n",
    "mf = m1 & m2\n",
    "cadf = cadf[mf]"
   ]
  },
  {
   "cell_type": "code",
   "execution_count": 12,
   "id": "fc7c984b",
   "metadata": {},
   "outputs": [],
   "source": [
    "m4 = cadf.groupby('ID').count()>=115"
   ]
  },
  {
   "cell_type": "code",
   "execution_count": 13,
   "id": "c57cd916",
   "metadata": {},
   "outputs": [],
   "source": [
    "cadf = cadf.groupby('ID').mean()[m4]"
   ]
  },
  {
   "cell_type": "code",
   "execution_count": 14,
   "id": "ffd12ccb",
   "metadata": {},
   "outputs": [],
   "source": [
    "cadf.dropna(inplace = True)"
   ]
  },
  {
   "cell_type": "code",
   "execution_count": 15,
   "id": "6b337b7a",
   "metadata": {},
   "outputs": [],
   "source": [
    "ca_df = cadf.copy()"
   ]
  },
  {
   "cell_type": "markdown",
   "id": "0b53cbc9",
   "metadata": {},
   "source": [
    "## Need to do leave-one-out cross validation in Southern California.\n",
    "## Southern California is Latitude <=34.81"
   ]
  },
  {
   "cell_type": "code",
   "execution_count": 16,
   "id": "513ad0c9",
   "metadata": {},
   "outputs": [],
   "source": [
    "socaldf = cadf[cadf['Latitude'] <= 34.81]"
   ]
  },
  {
   "cell_type": "code",
   "execution_count": 17,
   "id": "878979ce",
   "metadata": {},
   "outputs": [
    {
     "data": {
      "text/plain": [
       "(73, 3)"
      ]
     },
     "execution_count": 17,
     "metadata": {},
     "output_type": "execute_result"
    }
   ],
   "source": [
    "socaldf.shape"
   ]
  },
  {
   "cell_type": "code",
   "execution_count": 21,
   "id": "fbde1641",
   "metadata": {},
   "outputs": [],
   "source": [
    "X = socaldf[['Longitude', 'Latitude']].values\n",
    "y = socaldf[['Sample Measurement']]*1000\n",
    "y = y.values"
   ]
  },
  {
   "cell_type": "code",
   "execution_count": 22,
   "id": "b135526b",
   "metadata": {},
   "outputs": [],
   "source": [
    "from polire import Kriging, SpatialAverage\n",
    "from polire import CustomInterpolator\n",
    "from sklearn.neighbors import KNeighborsRegressor"
   ]
  },
  {
   "cell_type": "code",
   "execution_count": 25,
   "id": "c1ca7ca1",
   "metadata": {},
   "outputs": [],
   "source": [
    "kriging_predictions = []\n",
    "knn_predictions = []\n",
    "spatial_predictions = []\n",
    "for ix in range(X.shape[0]):\n",
    "    X_train = np.vstack((X[:ix], X[ix+1:]))\n",
    "    y_train = np.vstack((y[:ix], y[ix+1:]))\n",
    "    X_test = X[ix].reshape(1, 2)\n",
    "    y_test = y[ix].reshape(-1, 1)   \n",
    "    krig = Kriging(variogram_model='spherical', coordinate_type='Geographic')\n",
    "    krig.fit(X_train, y_train.ravel())\n",
    "    kriging_predictions.append(krig.predict(X_test).reshape(1, ))\n",
    "    knn = CustomInterpolator(KNeighborsRegressor(n_neighbors=1))\n",
    "    knn.fit(X_train, y_train.ravel())\n",
    "    knn_predictions.append(knn.predict(X_test).reshape(1, ))\n",
    "    spatial = SpatialAverage(coordinate_type='Geographic', radius=16.1)\n",
    "    spatial.fit(X_train, y_train.ravel())\n",
    "    spatial_predictions.append(spatial.predict(X_test).reshape(1, ))"
   ]
  },
  {
   "cell_type": "code",
   "execution_count": 26,
   "id": "53182fe5",
   "metadata": {},
   "outputs": [],
   "source": [
    "from sklearn.metrics import r2_score\n",
    "from sklearn.linear_model import LinearRegression"
   ]
  },
  {
   "cell_type": "markdown",
   "id": "c5ab76db",
   "metadata": {},
   "source": [
    "## Kriging"
   ]
  },
  {
   "cell_type": "code",
   "execution_count": 27,
   "id": "e18cb57b",
   "metadata": {},
   "outputs": [
    {
     "data": {
      "text/plain": [
       "(array([[1.06633059]]), 0.7807285408889516)"
      ]
     },
     "execution_count": 27,
     "metadata": {},
     "output_type": "execute_result"
    }
   ],
   "source": [
    "linear = LinearRegression()\n",
    "linear.fit(kriging_predictions, y)\n",
    "linear.coef_, r2_score(y, linear.predict(kriging_predictions))"
   ]
  },
  {
   "cell_type": "markdown",
   "id": "df98523b",
   "metadata": {},
   "source": [
    "## Spatial Averaging"
   ]
  },
  {
   "cell_type": "code",
   "execution_count": 28,
   "id": "02e562b8",
   "metadata": {},
   "outputs": [
    {
     "data": {
      "text/plain": [
       "(array([0.96384508]), 0.7832038030560716)"
      ]
     },
     "execution_count": 28,
     "metadata": {},
     "output_type": "execute_result"
    }
   ],
   "source": [
    "spatial_predictions = np.array(spatial_predictions)\n",
    "mask = ~np.isnan(spatial_predictions)\n",
    "y_spt = y[mask]\n",
    "spatial_predictions_1 = spatial_predictions[mask]\n",
    "linear = LinearRegression()\n",
    "linear.fit(spatial_predictions_1.reshape(-1, 1), y_spt)\n",
    "linear.coef_, r2_score(y_spt, linear.predict(spatial_predictions_1.reshape(-1, 1)))"
   ]
  },
  {
   "cell_type": "markdown",
   "id": "70fb8a1b",
   "metadata": {},
   "source": [
    "## Nearest Neighbor"
   ]
  },
  {
   "cell_type": "code",
   "execution_count": 29,
   "id": "1880f8af",
   "metadata": {},
   "outputs": [
    {
     "data": {
      "text/plain": [
       "(array([[0.80732258]]), 0.6783862462470494)"
      ]
     },
     "execution_count": 29,
     "metadata": {},
     "output_type": "execute_result"
    }
   ],
   "source": [
    "linear = LinearRegression()\n",
    "linear.fit(knn_predictions, y)\n",
    "linear.coef_, r2_score(y, linear.predict(knn_predictions))"
   ]
  }
 ],
 "metadata": {
  "kernelspec": {
   "display_name": "Python 3",
   "language": "python",
   "name": "python3"
  },
  "language_info": {
   "codemirror_mode": {
    "name": "ipython",
    "version": 3
   },
   "file_extension": ".py",
   "mimetype": "text/x-python",
   "name": "python",
   "nbconvert_exporter": "python",
   "pygments_lexer": "ipython3",
   "version": "3.8.8"
  }
 },
 "nbformat": 4,
 "nbformat_minor": 5
}
