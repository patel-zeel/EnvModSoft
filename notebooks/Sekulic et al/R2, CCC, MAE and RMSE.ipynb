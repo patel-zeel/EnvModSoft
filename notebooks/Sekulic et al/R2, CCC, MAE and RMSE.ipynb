{
 "cells": [
  {
   "cell_type": "code",
   "execution_count": 1,
   "id": "151f49db",
   "metadata": {},
   "outputs": [],
   "source": [
    "import pandas as pd\n",
    "import numpy as np\n",
    "from sklearn.metrics import mean_absolute_error, mean_squared_error, r2_score\n",
    "from time import time\n",
    "\n",
    "init = time()"
   ]
  },
  {
   "cell_type": "code",
   "execution_count": 2,
   "id": "b6bb762a",
   "metadata": {},
   "outputs": [],
   "source": [
    "var_list = ['tmax', 'tmin', 'tmean', 'slp']\n",
    "serbia = pd.read_csv('../../data/serbia/serbia_only.csv')\n",
    "\n",
    "def CCC(a, b):\n",
    "    s1 = np.std(a)\n",
    "    s2 = np.std(b)\n",
    "    m1 = np.mean(a)\n",
    "    m2 = np.mean(b)\n",
    "    s12 = np.cov(a, b)\n",
    "    return 2*s12[0,1]/((m1-m1)**2 + s1**2 + s2**2)"
   ]
  },
  {
   "cell_type": "code",
   "execution_count": 3,
   "id": "527987ab",
   "metadata": {},
   "outputs": [
    {
     "name": "stdout",
     "output_type": "stream",
     "text": [
      "tmax\n",
      "R2 0.964744471131945\n",
      "CCC 0.9821247411008256\n",
      "MAE 1.264423971705772\n",
      "RMSE 1.9603200307589845\n",
      "Compare_Corr 0.9956717646590106\n",
      "\n",
      "\n",
      "tmin\n",
      "R2 0.9329349693252583\n",
      "CCC 0.9650781707578291\n",
      "MAE 1.4856610834739545\n",
      "RMSE 2.0567866256253464\n",
      "Compare_Corr 0.9962453615487233\n",
      "\n",
      "\n",
      "tmean\n",
      "R2 0.9718522467000198\n",
      "CCC 0.9856634317298941\n",
      "MAE 0.9929720986579644\n",
      "RMSE 1.5020436219021218\n",
      "Compare_Corr 0.9972099594429433\n",
      "\n",
      "\n",
      "slp\n",
      "R2 0.9909732275488387\n",
      "CCC 0.9954995254351194\n",
      "MAE 0.4627472469082176\n",
      "RMSE 0.7016913240254966\n",
      "Compare_Corr 0.9990835819696214\n",
      "\n",
      "\n"
     ]
    }
   ],
   "source": [
    "for var in var_list:\n",
    "    print(var)\n",
    "    data = pd.read_csv('../../results/experiment-2/ogimet_'+var+'.csv')\n",
    "    auth_data = pd.read_csv('../../data/serbia/result_'+var+'.csv')\n",
    "    data = data[data.staid.isin(serbia.staid.values)].sort_values(['date', 'staid'])\n",
    "    auth_data = auth_data[auth_data.staid.isin(serbia.staid.values)].sort_values(['date', 'staid'])\n",
    "    print('R2', r2_score(data[var], data['pred']))\n",
    "    print('CCC', CCC(data[var].values, data['pred'].values))\n",
    "    print('MAE', mean_absolute_error(data[var], data['pred']))\n",
    "    print('RMSE', mean_squared_error(data[var], data['pred'], squared=False))\n",
    "    print('Compare_Corr', np.corrcoef(data['pred'], auth_data['pred'])[0,1])\n",
    "    print('\\n')"
   ]
  },
  {
   "cell_type": "code",
   "execution_count": 4,
   "id": "1ad3685a",
   "metadata": {},
   "outputs": [
    {
     "name": "stdout",
     "output_type": "stream",
     "text": [
      "Finished in 0.05104600588480632 minutes\n"
     ]
    }
   ],
   "source": [
    "print('Finished in', (time()-init)/60, 'minutes')"
   ]
  }
 ],
 "metadata": {
  "kernelspec": {
   "display_name": "Python 3",
   "language": "python",
   "name": "python3"
  },
  "language_info": {
   "codemirror_mode": {
    "name": "ipython",
    "version": 3
   },
   "file_extension": ".py",
   "mimetype": "text/x-python",
   "name": "python",
   "nbconvert_exporter": "python",
   "pygments_lexer": "ipython3",
   "version": "3.8.8"
  }
 },
 "nbformat": 4,
 "nbformat_minor": 5
}
