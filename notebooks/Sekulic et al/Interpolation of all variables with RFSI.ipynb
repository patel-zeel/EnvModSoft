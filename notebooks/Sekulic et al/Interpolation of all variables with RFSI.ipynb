{
 "cells": [
  {
   "cell_type": "markdown",
   "id": "0974655e",
   "metadata": {},
   "source": [
    "### Package imports"
   ]
  },
  {
   "cell_type": "code",
   "execution_count": 1,
   "id": "f8e2d4f4",
   "metadata": {},
   "outputs": [],
   "source": [
    "from time import time\n",
    "import pandas as pd\n",
    "import numpy as np\n",
    "import matplotlib.pyplot as plt\n",
    "from IPython.display import clear_output\n",
    "from sklearn.ensemble import RandomForestRegressor\n",
    "from sklearn.metrics import r2_score\n",
    "\n",
    "# !pip install rpy2\n",
    "import rpy2\n",
    "from rpy2.robjects import pandas2ri\n",
    "from rpy2 import robjects\n",
    "from rpy2.robjects.packages import importr\n",
    "pandas2ri.activate()\n",
    "\n",
    "from polire import CustomInterpolator\n",
    "from polire.preprocessing import SpatialFeatures\n",
    "\n",
    "import warnings\n",
    "warnings.filterwarnings('ignore')"
   ]
  },
  {
   "cell_type": "markdown",
   "id": "755f7b0b",
   "metadata": {},
   "source": [
    "## Tmax, Tmin, Tmean, SLP, Precipitation"
   ]
  },
  {
   "cell_type": "code",
   "execution_count": 2,
   "id": "d328f5af",
   "metadata": {
    "scrolled": true
   },
   "outputs": [],
   "source": [
    "def run_exp(i):\n",
    "    var = var_list[i]\n",
    "    fset = fset_list[i]\n",
    "    mtry = param_grid['mtry'][i]\n",
    "    min_node = param_grid['min.node.size'][i]\n",
    "    fraction = param_grid['sample.fraction'][i]\n",
    "    n_obs = param_grid['n.obs'][i]\n",
    "    exponent = param_grid['p'][i]\n",
    "    \n",
    "    print(var)\n",
    "    init = time()\n",
    "    # Load data\n",
    "    data = pd.read_csv('../../data/serbia/ogimet_serbia08_'+var+'.csv')\n",
    "    data['date'] = data['date'].apply(lambda x: int(x.replace('-','')))\n",
    "    \n",
    "    # Create folds\n",
    "    CAST = importr('CAST')\n",
    "    rdata = pandas2ri.PandasDataFrame(data)\n",
    "    out = CAST.CreateSpacetimeFolds(rdata, spacevar='staid', k=5, seed=0)\n",
    "    \n",
    "    # Execute exp for 5 folds\n",
    "    df_list = []\n",
    "    for i in range(5):\n",
    "        # Select the fold\n",
    "        trn_idx = out[0][i]-1\n",
    "        tst_idx = out[1][i]-1\n",
    "        trn_df = data.iloc[trn_idx]\n",
    "        tst_df = data.iloc[tst_idx]\n",
    "        trn_X = trn_df[fset]\n",
    "        trn_y = trn_df[var]\n",
    "#         print(i, trn_X.groupby('date').count()['doy'].min())\n",
    "\n",
    "        # Transform features\n",
    "        spat = SpatialFeatures(n_closest=n_obs, idw=True, idw_exponent=exponent, \n",
    "                               coordinate_type='Geographic', resolution='standard')\n",
    "\n",
    "        trn_F = spat.fit_transform(trn_X.values, trn_y.values)\n",
    "\n",
    "        # Training\n",
    "        base_model = RandomForestRegressor(n_estimators=250, min_samples_leaf=min_node, \n",
    "                                           max_features=mtry, max_samples=fraction,\n",
    "                                           random_state=0, n_jobs=-1)\n",
    "        model = CustomInterpolator(base_model)\n",
    "        model = model.fit(trn_F, trn_y.values)\n",
    "\n",
    "        # Testing\n",
    "        tst_X = tst_df[fset]\n",
    "        tst_F = spat.transform(tst_X.values)\n",
    "\n",
    "        y_pred = model.predict(tst_F)\n",
    "        tst_df['pred'] = y_pred\n",
    "        \n",
    "        df_list.append(tst_df)\n",
    "        \n",
    "    pd.concat(df_list).to_csv('../../results/experiment-2/ogimet_'+var+'.csv')\n",
    "    print('Job done in', (time()-init)/60, 'minutes')"
   ]
  },
  {
   "cell_type": "code",
   "execution_count": 3,
   "id": "88aad2f8",
   "metadata": {},
   "outputs": [],
   "source": [
    "var_list = ['tmax', 'tmin', 'tmean', 'slp']\n",
    "fset_list = [['lon', 'lat', 'date', 'doy', 'dem', 'twi', 'gtt'],\n",
    "            ['lon', 'lat', 'date', 'doy', 'dem', 'twi', 'gtt'],\n",
    "            ['lon', 'lat', 'date', 'doy', 'dem', 'twi', 'gtt'],\n",
    "            ['lon', 'lat', 'date', 'doy', 'dem']]\n",
    "param_grid = {'mtry':[7,4,7,6], 'min.node.size':[15,11,14,11],\n",
    "             'sample.fraction': [0.98, 0.93, 0.9999, 0.91],\n",
    "             'n.obs':[10, 9, 9, 9], 'p': [2.9, 2.2, 3, 3.5]}"
   ]
  },
  {
   "cell_type": "markdown",
   "id": "108e272c",
   "metadata": {},
   "source": [
    "## For all vars, run experiment"
   ]
  },
  {
   "cell_type": "code",
   "execution_count": null,
   "id": "49e779d8",
   "metadata": {
    "scrolled": true
   },
   "outputs": [
    {
     "name": "stdout",
     "output_type": "stream",
     "text": [
      "tmax\n",
      "Job done in 5.938937914371491 minutes\n",
      "tmin\n",
      "Job done in 5.290335786342621 minutes\n",
      "tmean\n"
     ]
    }
   ],
   "source": [
    "for i in range(len(var_list)):\n",
    "    run_exp(i)"
   ]
  }
 ],
 "metadata": {
  "kernelspec": {
   "display_name": "Python 3",
   "language": "python",
   "name": "python3"
  },
  "language_info": {
   "codemirror_mode": {
    "name": "ipython",
    "version": 3
   },
   "file_extension": ".py",
   "mimetype": "text/x-python",
   "name": "python",
   "nbconvert_exporter": "python",
   "pygments_lexer": "ipython3",
   "version": "3.8.8"
  }
 },
 "nbformat": 4,
 "nbformat_minor": 5
}
