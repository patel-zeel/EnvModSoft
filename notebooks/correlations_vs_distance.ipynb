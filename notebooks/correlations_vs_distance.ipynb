{
 "cells": [
  {
   "cell_type": "code",
   "execution_count": 6,
   "metadata": {},
   "outputs": [],
   "source": [
    "import pandas as pd\n",
    "import matplotlib.pyplot as plt\n",
    "import matplotlib\n",
    "import numpy as np\n",
    "import sys\n",
    "import warnings\n",
    "warnings.filterwarnings('ignore')"
   ]
  },
  {
   "cell_type": "markdown",
   "metadata": {},
   "source": [
    "## Resample and clean"
   ]
  },
  {
   "cell_type": "code",
   "execution_count": 8,
   "metadata": {},
   "outputs": [
    {
     "data": {
      "text/html": [
       "<div>\n",
       "<style scoped>\n",
       "    .dataframe tbody tr th:only-of-type {\n",
       "        vertical-align: middle;\n",
       "    }\n",
       "\n",
       "    .dataframe tbody tr th {\n",
       "        vertical-align: top;\n",
       "    }\n",
       "\n",
       "    .dataframe thead th {\n",
       "        text-align: right;\n",
       "    }\n",
       "</style>\n",
       "<table border=\"1\" class=\"dataframe\">\n",
       "  <thead>\n",
       "    <tr style=\"text-align: right;\">\n",
       "      <th></th>\n",
       "      <th>date</th>\n",
       "      <th>time</th>\n",
       "      <th>epoch</th>\n",
       "      <th>moteid</th>\n",
       "      <th>temperature</th>\n",
       "      <th>humidity</th>\n",
       "      <th>light</th>\n",
       "      <th>voltage</th>\n",
       "    </tr>\n",
       "    <tr>\n",
       "      <th>date-time</th>\n",
       "      <th></th>\n",
       "      <th></th>\n",
       "      <th></th>\n",
       "      <th></th>\n",
       "      <th></th>\n",
       "      <th></th>\n",
       "      <th></th>\n",
       "      <th></th>\n",
       "    </tr>\n",
       "  </thead>\n",
       "  <tbody>\n",
       "    <tr>\n",
       "      <th>2004-03-31 03:38:15.757551</th>\n",
       "      <td>2004-03-31</td>\n",
       "      <td>03:38:15.757551</td>\n",
       "      <td>2</td>\n",
       "      <td>1.0</td>\n",
       "      <td>122.1530</td>\n",
       "      <td>-3.91901</td>\n",
       "      <td>11.04</td>\n",
       "      <td>2.03397</td>\n",
       "    </tr>\n",
       "    <tr>\n",
       "      <th>2004-02-28 00:59:16.027850</th>\n",
       "      <td>2004-02-28</td>\n",
       "      <td>00:59:16.02785</td>\n",
       "      <td>3</td>\n",
       "      <td>1.0</td>\n",
       "      <td>19.9884</td>\n",
       "      <td>37.09330</td>\n",
       "      <td>45.08</td>\n",
       "      <td>2.69964</td>\n",
       "    </tr>\n",
       "    <tr>\n",
       "      <th>2004-02-28 01:03:16.333930</th>\n",
       "      <td>2004-02-28</td>\n",
       "      <td>01:03:16.33393</td>\n",
       "      <td>11</td>\n",
       "      <td>1.0</td>\n",
       "      <td>19.3024</td>\n",
       "      <td>38.46290</td>\n",
       "      <td>45.08</td>\n",
       "      <td>2.68742</td>\n",
       "    </tr>\n",
       "    <tr>\n",
       "      <th>2004-02-28 01:06:16.013453</th>\n",
       "      <td>2004-02-28</td>\n",
       "      <td>01:06:16.013453</td>\n",
       "      <td>17</td>\n",
       "      <td>1.0</td>\n",
       "      <td>19.1652</td>\n",
       "      <td>38.80390</td>\n",
       "      <td>45.08</td>\n",
       "      <td>2.68742</td>\n",
       "    </tr>\n",
       "    <tr>\n",
       "      <th>2004-02-28 01:06:46.778088</th>\n",
       "      <td>2004-02-28</td>\n",
       "      <td>01:06:46.778088</td>\n",
       "      <td>18</td>\n",
       "      <td>1.0</td>\n",
       "      <td>19.1750</td>\n",
       "      <td>38.83790</td>\n",
       "      <td>45.08</td>\n",
       "      <td>2.69964</td>\n",
       "    </tr>\n",
       "  </tbody>\n",
       "</table>\n",
       "</div>"
      ],
      "text/plain": [
       "                                  date             time  epoch  moteid  \\\n",
       "date-time                                                                \n",
       "2004-03-31 03:38:15.757551  2004-03-31  03:38:15.757551      2     1.0   \n",
       "2004-02-28 00:59:16.027850  2004-02-28   00:59:16.02785      3     1.0   \n",
       "2004-02-28 01:03:16.333930  2004-02-28   01:03:16.33393     11     1.0   \n",
       "2004-02-28 01:06:16.013453  2004-02-28  01:06:16.013453     17     1.0   \n",
       "2004-02-28 01:06:46.778088  2004-02-28  01:06:46.778088     18     1.0   \n",
       "\n",
       "                            temperature  humidity  light  voltage  \n",
       "date-time                                                          \n",
       "2004-03-31 03:38:15.757551     122.1530  -3.91901  11.04  2.03397  \n",
       "2004-02-28 00:59:16.027850      19.9884  37.09330  45.08  2.69964  \n",
       "2004-02-28 01:03:16.333930      19.3024  38.46290  45.08  2.68742  \n",
       "2004-02-28 01:06:16.013453      19.1652  38.80390  45.08  2.68742  \n",
       "2004-02-28 01:06:46.778088      19.1750  38.83790  45.08  2.69964  "
      ]
     },
     "execution_count": 8,
     "metadata": {},
     "output_type": "execute_result"
    }
   ],
   "source": [
    "tdata = pd.read_csv('../data/data.txt.gz', names=['date', 'time', 'epoch', 'moteid', \n",
    "                                                  'temperature', 'humidity', 'light', 'voltage'], sep=' ')\n",
    "tdata['date-time'] = pd.to_datetime(tdata['date']+' '+tdata['time'])\n",
    "tdata = tdata.set_index('date-time')\n",
    "tdata.head()"
   ]
  },
  {
   "cell_type": "code",
   "execution_count": 13,
   "metadata": {},
   "outputs": [
    {
     "name": "stdout",
     "output_type": "stream",
     "text": [
      "(138, 53) 138 (53, 53)\n"
     ]
    }
   ],
   "source": [
    "tdata = tdata.loc['2004-02-28':'2004-03-01']\n",
    "loc_df = pd.read_csv('http://db.csail.mit.edu/labdata/mote_locs.txt', sep=' ',names=[0,'X','Y']).set_index(0)\n",
    "\n",
    "M = 22\n",
    "cross_df = pd.crosstab(tdata.index, tdata.moteid, tdata.temperature, aggfunc=lambda x:list(x)[0])\n",
    "cross_df = cross_df.resample(str(M)+'min').mean().dropna(how='any')\n",
    "print(cross_df.shape, len(cross_df.dropna()), cross_df.cov().dropna().shape)\n",
    "\n",
    "G_all = (((cross_df - cross_df.mean()).T).dot(cross_df - cross_df.mean())/len(cross_df)) # Estim. Cov. Mat.\n",
    "G_all_npcov = cross_df.cov()\n",
    "train_data = loc_df.loc[cross_df.columns][['X','Y']]\n",
    "train_data['Temp'] = cross_df.mean()"
   ]
  },
  {
   "cell_type": "markdown",
   "metadata": {},
   "source": [
    "## Checking stationarity"
   ]
  },
  {
   "cell_type": "code",
   "execution_count": 14,
   "metadata": {},
   "outputs": [
    {
     "data": {
      "image/png": "[encoded data removed]",
      "text/plain": [
       "<Figure size 432x288 with 1 Axes>"
      ]
     },
     "metadata": {
      "needs_background": "light"
     },
     "output_type": "display_data"
    }
   ],
   "source": [
    "dis = []\n",
    "cor = []\n",
    "corr_mat = cross_df.corr()\n",
    "for col in corr_mat.corr().columns:\n",
    "    for col2 in corr_mat.corr().columns:\n",
    "        dis.append(np.linalg.norm(loc_df.loc[col] - loc_df.loc[col2]))\n",
    "        cor.append(corr_mat.loc[col, col2])\n",
    "        \n",
    "fig, ax = plt.subplots()\n",
    "ax.scatter(dis, cor, s=0.1)\n",
    "ax.set_xlabel('Distance (m)')\n",
    "ax.set_ylabel('Correlation')\n",
    "plt.tight_layout()\n",
    "plt.show()"
   ]
  }
 ],
 "metadata": {
  "kernelspec": {
   "display_name": "Python 3",
   "language": "python",
   "name": "python3"
  },
  "language_info": {
   "codemirror_mode": {
    "name": "ipython",
    "version": 3
   },
   "file_extension": ".py",
   "mimetype": "text/x-python",
   "name": "python",
   "nbconvert_exporter": "python",
   "pygments_lexer": "ipython3",
   "version": "3.8.8"
  }
 },
 "nbformat": 4,
 "nbformat_minor": 2
}
