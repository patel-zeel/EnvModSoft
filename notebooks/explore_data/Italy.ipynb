{
 "cells": [
  {
   "cell_type": "code",
   "execution_count": 95,
   "id": "e49ae87c",
   "metadata": {},
   "outputs": [],
   "source": [
    "import pandas as pd\n",
    "from glob import glob"
   ]
  },
  {
   "cell_type": "code",
   "execution_count": 96,
   "id": "ebdc1dcb",
   "metadata": {},
   "outputs": [
    {
     "name": "stdout",
     "output_type": "stream",
     "text": [
      "../../data/hope/pluvio_2560-1921-2005.csv yep 606.0\n"
     ]
    }
   ],
   "source": [
    "dfl = []\n",
    "files = glob('../../data/hope/*.csv')\n",
    "for f in files[5:]:\n",
    "    tmp = pd.read_csv(f, sep=';').iloc[:,:-1].dropna(subset=['mese'])\n",
    "    if tmp.misura.apply(float).max() > 500:\n",
    "        print(f, 'yep', tmp.misura.apply(float).max())\n",
    "        break\n",
    "    tmp['stn'] = f.split('/')[-1]\n",
    "    dfl.append(tmp)\n",
    "    \n",
    "df = pd.concat(dfl)\n",
    "df['misura'] = df.misura.apply(lambda x: float(str(x).replace(',','')))"
   ]
  },
  {
   "cell_type": "code",
   "execution_count": 97,
   "id": "b77c0488",
   "metadata": {},
   "outputs": [],
   "source": [
    "good_stn = df.groupby('stn').count().sort_values('mese', ascending=False)[:247].index"
   ]
  },
  {
   "cell_type": "code",
   "execution_count": 98,
   "id": "9f9d7286",
   "metadata": {},
   "outputs": [],
   "source": [
    "good_df = df[df.stn.isin(good_stn)]"
   ]
  },
  {
   "cell_type": "code",
   "execution_count": 99,
   "id": "92bd9210",
   "metadata": {},
   "outputs": [
    {
     "data": {
      "text/html": [
       "<div>\n",
       "<style scoped>\n",
       "    .dataframe tbody tr th:only-of-type {\n",
       "        vertical-align: middle;\n",
       "    }\n",
       "\n",
       "    .dataframe tbody tr th {\n",
       "        vertical-align: top;\n",
       "    }\n",
       "\n",
       "    .dataframe thead th {\n",
       "        text-align: right;\n",
       "    }\n",
       "</style>\n",
       "<table border=\"1\" class=\"dataframe\">\n",
       "  <thead>\n",
       "    <tr style=\"text-align: right;\">\n",
       "      <th></th>\n",
       "      <th>anno</th>\n",
       "      <th>misura</th>\n",
       "    </tr>\n",
       "    <tr>\n",
       "      <th>mese</th>\n",
       "      <th></th>\n",
       "      <th></th>\n",
       "    </tr>\n",
       "  </thead>\n",
       "  <tbody>\n",
       "    <tr>\n",
       "      <th>1.0</th>\n",
       "      <td>25.584533</td>\n",
       "      <td>77.543800</td>\n",
       "    </tr>\n",
       "    <tr>\n",
       "      <th>2.0</th>\n",
       "      <td>25.584533</td>\n",
       "      <td>61.201731</td>\n",
       "    </tr>\n",
       "    <tr>\n",
       "      <th>3.0</th>\n",
       "      <td>25.584533</td>\n",
       "      <td>56.467496</td>\n",
       "    </tr>\n",
       "    <tr>\n",
       "      <th>4.0</th>\n",
       "      <td>25.584533</td>\n",
       "      <td>47.114973</td>\n",
       "    </tr>\n",
       "    <tr>\n",
       "      <th>5.0</th>\n",
       "      <td>25.584533</td>\n",
       "      <td>33.073528</td>\n",
       "    </tr>\n",
       "    <tr>\n",
       "      <th>6.0</th>\n",
       "      <td>25.584533</td>\n",
       "      <td>23.271990</td>\n",
       "    </tr>\n",
       "    <tr>\n",
       "      <th>7.0</th>\n",
       "      <td>25.584533</td>\n",
       "      <td>21.047951</td>\n",
       "    </tr>\n",
       "    <tr>\n",
       "      <th>8.0</th>\n",
       "      <td>25.584533</td>\n",
       "      <td>27.455873</td>\n",
       "    </tr>\n",
       "    <tr>\n",
       "      <th>9.0</th>\n",
       "      <td>25.584533</td>\n",
       "      <td>46.234870</td>\n",
       "    </tr>\n",
       "    <tr>\n",
       "      <th>10.0</th>\n",
       "      <td>25.584533</td>\n",
       "      <td>65.552175</td>\n",
       "    </tr>\n",
       "    <tr>\n",
       "      <th>11.0</th>\n",
       "      <td>25.584533</td>\n",
       "      <td>66.831437</td>\n",
       "    </tr>\n",
       "    <tr>\n",
       "      <th>12.0</th>\n",
       "      <td>25.584533</td>\n",
       "      <td>71.456606</td>\n",
       "    </tr>\n",
       "  </tbody>\n",
       "</table>\n",
       "</div>"
      ],
      "text/plain": [
       "           anno     misura\n",
       "mese                      \n",
       "1.0   25.584533  77.543800\n",
       "2.0   25.584533  61.201731\n",
       "3.0   25.584533  56.467496\n",
       "4.0   25.584533  47.114973\n",
       "5.0   25.584533  33.073528\n",
       "6.0   25.584533  23.271990\n",
       "7.0   25.584533  21.047951\n",
       "8.0   25.584533  27.455873\n",
       "9.0   25.584533  46.234870\n",
       "10.0  25.584533  65.552175\n",
       "11.0  25.584533  66.831437\n",
       "12.0  25.584533  71.456606"
      ]
     },
     "execution_count": 99,
     "metadata": {},
     "output_type": "execute_result"
    }
   ],
   "source": [
    "good_df.groupby('mese').std()"
   ]
  },
  {
   "cell_type": "code",
   "execution_count": 66,
   "id": "44657666",
   "metadata": {},
   "outputs": [
    {
     "data": {
      "text/plain": [
       "[<matplotlib.lines.Line2D at 0x7f028dcbac70>]"
      ]
     },
     "execution_count": 66,
     "metadata": {},
     "output_type": "execute_result"
    },
    {
     "data": {
      "image/png": "[encoded data removed]",
      "text/plain": [
       "<Figure size 432x288 with 1 Axes>"
      ]
     },
     "metadata": {
      "needs_background": "light"
     },
     "output_type": "display_data"
    }
   ],
   "source": [
    "import seaborn as sns\n",
    "import matplotlib.pyplot as plt\n",
    "\n",
    "plt.plot(good_df['misura'].sort_values().values)"
   ]
  },
  {
   "cell_type": "code",
   "execution_count": 93,
   "id": "d911e9ab",
   "metadata": {},
   "outputs": [
    {
     "data": {
      "text/plain": [
       "1.75"
      ]
     },
     "execution_count": 93,
     "metadata": {},
     "output_type": "execute_result"
    }
   ],
   "source": [
    "3.5/2"
   ]
  }
 ],
 "metadata": {
  "kernelspec": {
   "display_name": "Python 3",
   "language": "python",
   "name": "python3"
  },
  "language_info": {
   "codemirror_mode": {
    "name": "ipython",
    "version": 3
   },
   "file_extension": ".py",
   "mimetype": "text/x-python",
   "name": "python",
   "nbconvert_exporter": "python",
   "pygments_lexer": "ipython3",
   "version": "3.8.8"
  }
 },
 "nbformat": 4,
 "nbformat_minor": 5
}
