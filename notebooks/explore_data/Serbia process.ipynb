{
 "cells": [
  {
   "cell_type": "code",
   "execution_count": 22,
   "id": "5b258c30",
   "metadata": {},
   "outputs": [],
   "source": [
    "import pandas as pd\n",
    "import numpy as np\n",
    "from time import time\n",
    "from calendar import monthrange\n",
    "import re\n",
    "import os\n",
    "\n",
    "from IPython.display import clear_output\n",
    "\n",
    "from multiprocessing import Pool"
   ]
  },
  {
   "cell_type": "code",
   "execution_count": 18,
   "id": "ccf049b4",
   "metadata": {},
   "outputs": [],
   "source": [
    "def get_f_name(i):\n",
    "    d = str(i.day).zfill(2)\n",
    "    m = str(i.month).zfill(2)\n",
    "    y = str(i.year)\n",
    "    h = str(i.hour).zfill(2)\n",
    "    return '_'.join(map(str, [y, m, d, h]))+'.gz'\n",
    "\n",
    "def get_max(i):\n",
    "    f_name = get_f_name(i)\n",
    "    df = pd.read_csv('../../data/serbia/csv/'+f_name)\n",
    "    res = [np.nan]*2\n",
    "    try:\n",
    "        vals = df['Temperature(C).2'].apply(f).values\n",
    "        vals = vals[vals == vals]\n",
    "        res[0] = vals.max()\n",
    "        res[1] = vals.min()\n",
    "    except:\n",
    "        pass\n",
    "    return res\n",
    "\n",
    "def f(val):\n",
    "    try:\n",
    "        return float(val)\n",
    "    except:\n",
    "        return None"
   ]
  },
  {
   "cell_type": "code",
   "execution_count": 19,
   "id": "cb85e20b",
   "metadata": {
    "scrolled": false
   },
   "outputs": [
    {
     "name": "stdout",
     "output_type": "stream",
     "text": [
      "CPU times: user 1.49 s, sys: 111 ms, total: 1.6 s\n",
      "Wall time: 38.2 s\n"
     ]
    }
   ],
   "source": [
    "date_range = pd.date_range('01-01-2000 00:00:00', '01-01-2020 00:00:00', freq='H', closed='left')\n",
    "\n",
    "workers = Pool()\n",
    "%time max_list = workers.map(get_max, date_range)\n",
    "workers.close()"
   ]
  },
  {
   "cell_type": "code",
   "execution_count": 20,
   "id": "a4d1860f",
   "metadata": {},
   "outputs": [
    {
     "data": {
      "text/plain": [
       "(35.2, -26.0)"
      ]
     },
     "execution_count": 20,
     "metadata": {},
     "output_type": "execute_result"
    }
   ],
   "source": [
    "maxa = np.array(max_list)\n",
    "maxa[:, 0][maxa[:, 0] == maxa[:, 0]].max(), maxa[:, 1][maxa[:, 1] == maxa[:, 1]].min()"
   ]
  },
  {
   "cell_type": "code",
   "execution_count": 21,
   "id": "04075f55",
   "metadata": {},
   "outputs": [
    {
     "data": {
      "text/plain": [
       "-2.7"
      ]
     },
     "execution_count": 21,
     "metadata": {},
     "output_type": "execute_result"
    }
   ],
   "source": [
    "1.5-4.2"
   ]
  },
  {
   "cell_type": "code",
   "execution_count": null,
   "id": "dd119ce1",
   "metadata": {},
   "outputs": [],
   "source": []
  }
 ],
 "metadata": {
  "kernelspec": {
   "display_name": "Python 3",
   "language": "python",
   "name": "python3"
  },
  "language_info": {
   "codemirror_mode": {
    "name": "ipython",
    "version": 3
   },
   "file_extension": ".py",
   "mimetype": "text/x-python",
   "name": "python",
   "nbconvert_exporter": "python",
   "pygments_lexer": "ipython3",
   "version": "3.8.8"
  }
 },
 "nbformat": 4,
 "nbformat_minor": 5
}
